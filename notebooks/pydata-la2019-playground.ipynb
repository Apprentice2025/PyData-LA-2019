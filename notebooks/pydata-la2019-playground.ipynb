{
 "cells": [
  {
   "cell_type": "markdown",
   "metadata": {
    "Collapsed": "false"
   },
   "source": [
    "# Experimental ML with Holoviews/Geoviews + PyTorch\n",
    "\n",
    "- type: PyData LA 2019 Proposal\n",
    "- date: 2019-09-21\n",
    "- author: Hayley Song (haejinso@usc.edu)\n",
    "- Prereq: \n",
    "    - Basic understanding of visaulization in python (eg. previously have used matplotlib.pyplot library)\n",
    "    - Basic understanding of neural network training process \n",
    "    I'll give a brief overview of the workflow, assuming audiences' previous experience with the following concepts\n",
    "        - mini-batch training\n",
    "        - forward-pass, backword-pass \n",
    "        - gradient, gradient descent algorithm\n",
    "        - classification, semantic segmentation\n",
    "        - image as numpy ndarray"
   ]
  },
  {
   "cell_type": "markdown",
   "metadata": {
    "Collapsed": "false"
   },
   "source": [
    "## Load Libraries\n"
   ]
  },
  {
   "cell_type": "code",
   "execution_count": null,
   "metadata": {
    "Collapsed": "false"
   },
   "outputs": [],
   "source": [
    "%load_ext autoreload\n",
    "%autoreload 2\n",
    "\n",
    "import os, sys, time\n",
    "import numpy as np\n",
    "import scipy as sp\n",
    "import pandas as pd\n",
    "import intake\n",
    "    \n",
    "from pathlib import Path\n",
    "from pprint import pprint as pp\n",
    "p = print \n",
    "\n",
    "from sklearn.externals import joblib\n",
    "import pdb\n",
    "\n",
    "import matplotlib.pyplot as plt\n",
    "%matplotlib inline\n",
    "\n",
    "# ignore warnings\n",
    "import warnings\n",
    "if not sys.warnoptions:\n",
    "    warnings.simplefilter('ignore')\n",
    "    \n",
    "# Don't generate bytecode\n",
    "sys.dont_write_bytecode = True"
   ]
  },
  {
   "cell_type": "code",
   "execution_count": null,
   "metadata": {
    "Collapsed": "false"
   },
   "outputs": [],
   "source": [
    "import holoviews as hv\n",
    "import xarray as xr\n",
    "\n",
    "from holoviews import opts\n",
    "from holoviews.operation.datashader import datashade, shade, dynspread, rasterize\n",
    "from holoviews.streams import Stream, param\n",
    "from holoviews import streams\n",
    "import geoviews as gv\n",
    "import geoviews.feature as gf\n",
    "from geoviews import tile_sources as gvts\n",
    "\n",
    "\n",
    "import geopandas as gpd\n",
    "import cartopy.crs as ccrs\n",
    "import cartopy.feature as cf\n",
    "\n",
    "hv.notebook_extension('bokeh')\n",
    "hv.Dimension.type_formatters[np.datetime64] = '%Y-%m-%d'"
   ]
  },
  {
   "cell_type": "markdown",
   "metadata": {
    "Collapsed": "false"
   },
   "source": [
    "## Set up additional library path"
   ]
  },
  {
   "cell_type": "code",
   "execution_count": null,
   "metadata": {
    "Collapsed": "false"
   },
   "outputs": [],
   "source": [
    "# Add the utils directory to the search path\n",
    "SP_ROOT = Path.home()/'Playground/ContextNet'\n",
    "SP_LIBS = SP_ROOT/'scripts' # to be changed to 'src'\n",
    "LIBS_DIR = Path('../libs').absolute()\n",
    "DIRS_TO_ADD = [SP_LIBS, LIBS_DIR]\n",
    "for p in DIRS_TO_ADD:\n",
    "    assert p.exists()\n",
    "    \n",
    "    if str(p) not in sys.path:\n",
    "        sys.path.insert(0, str(p))\n",
    "        print(f\"Added to sys.path: {p}\")\n",
    "\n",
    "# pp(sys.path)\n",
    "    "
   ]
  },
  {
   "cell_type": "code",
   "execution_count": null,
   "metadata": {
    "Collapsed": "false"
   },
   "outputs": [],
   "source": [
    "from utils import get_mro as mro, nprint\n",
    "import SpacenetPath as spp\n",
    "import spacenet_globals as spg\n"
   ]
  },
  {
   "cell_type": "markdown",
   "metadata": {
    "Collapsed": "false"
   },
   "source": [
    "## Step 1: Explore your dataset\n",
    "    "
   ]
  },
  {
   "cell_type": "code",
   "execution_count": null,
   "metadata": {
    "Collapsed": "false"
   },
   "outputs": [],
   "source": [
    "city = 'vegas'\n",
    "data_rgb = spp.sample_rgb8_dirs[city]\n",
    "data_mask = spp.sample_mask_dirs[city]"
   ]
  },
  {
   "cell_type": "code",
   "execution_count": null,
   "metadata": {
    "Collapsed": "false"
   },
   "outputs": [],
   "source": [
    "data_rgb.ls()"
   ]
  },
  {
   "cell_type": "markdown",
   "metadata": {
    "Collapsed": "false"
   },
   "source": [
    "## Step 2: Monitor the training process "
   ]
  },
  {
   "cell_type": "markdown",
   "metadata": {
    "Collapsed": "false"
   },
   "source": [
    "## Step 3: Interactively test your trained model on the new data"
   ]
  },
  {
   "cell_type": "markdown",
   "metadata": {
    "Collapsed": "false"
   },
   "source": [
    "## Step 4: What have the model learned?"
   ]
  },
  {
   "cell_type": "markdown",
   "metadata": {
    "Collapsed": "false"
   },
   "source": [
    "## Step 5: Examples"
   ]
  },
  {
   "cell_type": "markdown",
   "metadata": {
    "Collapsed": "false"
   },
   "source": [
    "## Step 6: Summary\n",
    "- Main Takeway\n",
    "\n",
    "- Resources\n",
    "    - General: \n",
    "        - Github repo for this talk:\n",
    "        - Holoviews:\n",
    "        - PyTorch:\n",
    "\n",
    "    - Data:\n",
    "        - Remote sensing data: google-earth-engine\n",
    "    - More from PyViz team:\n",
    "        - Link to scipy tutorials:\n",
    "        - Panel\n",
    "        - "
   ]
  },
  {
   "cell_type": "markdown",
   "metadata": {
    "Collapsed": "false"
   },
   "source": [
    "---\n",
    "\n",
    "- Prepare your dataset: train, validation, test\n",
    "    - classification: \n",
    "        - eg: airplane/not-airplane, cat/dog/giraffe, land cover classifiation (forest, road, ...)\n",
    "        - eg: semantic segmentation: classify each pixel into a label in the label categories\n",
    "    This talk focuses on the semantic segmentation. So our dataset consists of the input image (RGB) and the target image which will be a \"mask\" image whose pixel has one of the labels in {'highway', 'track', 'dirt', 'others'}\n",
    "    \n",
    "    - clustering: "
   ]
  },
  {
   "cell_type": "markdown",
   "metadata": {
    "Collapsed": "false"
   },
   "source": [
    "===================\n",
    "PyCon Talk Proposal\n",
    "===================\n",
    "\n",
    ":Title: Experimental ML with PyViz + PyTorch\n",
    ":Duration: 30 min\n",
    ":Level: Intermediate\n",
    ":Categories: ?\n",
    "\n",
    "Summary\n",
    "=======\n",
    "\n",
    "Both newcomers and experienced developers alike love Python's built-in data types — especially dictionaries!  But how do dictionaries work? What do they do better than other container types, and where, on the other hand, are their weaknesses?  Using simple, vivid diagrams that show the secrets of how the dictionary is implemented, and a series of progressively interesting examples of its behavior, we will train the Python developer's mind to picture what the dictionary is doing in just enough detail to make good decisions, as your data sets get larger, about when to use dictionaries and when other data structures might be more appropriate.\n",
    "\n",
    "Description\n",
    "===========\n",
    "\n",
    "With some judicious use of ``ctypes``, one can write a Python routine\n",
    "that dissects a Python dictionary or set and displays its internals.\n",
    "Using such a tool — which I will also release on PyPI, to accompany the\n",
    "presentation slides — my presentation will show how dictionaries behave\n",
    "as you add items, overwrite them later, remove them, and iterate across\n",
    "the whole dictionary.\n",
    "\n",
    "By contemplating these normally hidden mechanics, and by showing some\n",
    "judicious results from the ``timeit`` module, both newcomers and\n",
    "experienced developers can gain new insight into the trade-offs that\n",
    "dictionaries provide between space and computational complexity,\n",
    "compared to the other alternatives in Python.  They will also understand\n",
    "why Python provides a ``hash()`` function; why user-defined classes are\n",
    "given the freedom to define their own hash function as well; and, what\n",
    "happens if they choose not to.\n",
    "\n",
    "The talk will actually discuss sets for most of its length, since they\n",
    "are simpler to diagram and understand, then show, at the end, how a\n",
    "dictionary is just a set with a second column, that holds a reference to\n",
    "an object stored at that key value.\n",
    "\n",
    "The talk will go something like this — each of the following 5 items,\n",
    "I'm imagining, will take up about five minutes (and probably five to ten\n",
    "slides) of my presentation, adding together to 25 minutes (leaving\n",
    "5 minutes left over for questions):\n",
    "\n",
    "1. Computer memory is like a Python list\n",
    "----------------------------------------\n",
    "\n",
    "Computer memory is indexed by integers, like Python lists (though the\n",
    "indexes tend to be much bigger!).  So a Python list is simple: it's an\n",
    "array of numbers, each indicating where in memory a Python object is\n",
    "stored, and Python can jump directly to list item *n*, but has to\n",
    "iterate across the whole list to find whether a particular item is in\n",
    "the list.\n",
    "\n",
    "An ordered list would let you find items more quickly, by jumping in\n",
    "halfway through, and then restricting your search to one half of the\n",
    "remaining list, just like looking for a name in a telephone book.  But,\n",
    "the cost would still grow as the list grew longer.  And, lists would be\n",
    "expensive to keep ordered!\n",
    "\n",
    "So, let's think about another plan.  In a normal list, items wind up at\n",
    "all sorts of indexes.  What if we created a list, and magically knew\n",
    "ahead of time exactly where each Python object belonged?  Then we could\n",
    "jump right to a given item, immediately, every time!\n",
    "\n",
    "2. The idea of a hash table\n",
    "---------------------------\n",
    "\n",
    "We would need a function, called a *hash function*, that when given a\n",
    "certain value — like the number 42, or the string ``\"Ni\"`` — always\n",
    "returns the same index.  Python provides this with a built-in called\n",
    "``hash()`` for which each built-in type provides an implementation.\n",
    "\n",
    "As an example, we will examine an empty ``set()`` — “look, it starts\n",
    "with space for eight items, even when it's empty!” — then we run\n",
    "``hash()`` on three simple Python values; then we insert them into the\n",
    "set, and see them land right at the indexes where ``hash()`` told them\n",
    "to.\n",
    "\n",
    "We now see the trade-off a hash table makes: in return for holding open\n",
    "several empty slots, and thus spending *memory*, it can find an item (or\n",
    "discover that it's absent) after only incurring the *static* cost of\n",
    "computing a hash.  With a few ``timeit`` tests, we determine how costly\n",
    "it is to compute a hash compared to two simple list operations: jumping\n",
    "directly to list item *n*, versus iterating across a small or large list\n",
    "to find an item.  Very small lists are very fast, but quickly become\n",
    "more expensive than computing the hash value to look in a set or\n",
    "dictionary.\n",
    "\n",
    "3. When indexes collide\n",
    "-----------------------\n",
    "\n",
    "The ``hash()`` function has to return a limited range of values for an\n",
    "unlimited range of inputs, so many objects *collide*.  I will create a\n",
    "collision in the set shown in the slides, and show how the hash table\n",
    "shunts aside the second item and puts it in a second spot that it can\n",
    "find it quickly again when we ask.  Removing the collision can still\n",
    "leave the other object stranded where it was put, so the cost of a\n",
    "collision can linger.\n",
    "\n",
    "When I add a fifth item to the set, it suddenly becomes 32 items long!\n",
    "This is to prevent collisions from piling up too deep; both the size of\n",
    "the hash table, *and* some of its behavior, are thus driven by the need\n",
    "to handle collisions.  I will note that, when a set or dictionary is\n",
    "re-sized, all of its contents are re-inserted, so that any junk left\n",
    "over gets periodically erased as long as the dictionary is occasionally\n",
    "growing or shrinking.\n",
    "\n",
    "I will show how the cost of re-allocating the whole hash table is\n",
    "reasonable if spread across many hundreds of set inserts, and also\n",
    "quickly show an animation of the dictionary growing, then shrinking as\n",
    "items are removed.  By showing some animations of how a dictionary\n",
    "\"looks\" as it grows and gets used, using some real-world data from\n",
    "observing a dictionary in one of my own applications, I will give a feel\n",
    "for how they behave in the wild.\n",
    "\n",
    "4. Providing your own hash function\n",
    "-----------------------------------\n",
    "\n",
    "The critical idea of giving one of your own classes its own\n",
    "``__hash__()`` method is whether each member of your class represents a\n",
    "*value* that could later — or even simultaneously — be represented by a\n",
    "different instance of your class.  I will show how we can easily create\n",
    "two floats with different ``id()`` but the same value (such that they\n",
    "satisfy Python equality), and show how they both go into the same\n",
    "dictionary slot because they have the same hash value.\n",
    "\n",
    "With a few examples and simple illustrations, I will show how simply\n",
    "calling ``hash()`` on the instance variables that give your class\n",
    "instance its own unique value, and combining their values together, you\n",
    "can create a decent hash for your own class.\n",
    "\n",
    "What if your class has no hash routine?  I will show how objects are\n",
    "then tested for uniqueness, rather than value, and how deleting and\n",
    "re-creating the \"same\" object gives it a different hash-table slot.\n",
    "\n",
    "5. The dictionary, and its alternatives\n",
    "---------------------------------------\n",
    "\n",
    "First, I finally show the dictionary in all of its glory: like a set, it\n",
    "keeps items in a hash table; but it adds a second column that for each\n",
    "key provides a \"value\".\n",
    "\n",
    "I will then show an animation of iteration across a dictionary: why the\n",
    "objects come out in random order, and why it's dangerous to modify the\n",
    "dictionary during iteration.\n",
    "\n",
    "Finally, I will briefly discuss alternatives.  If you want items back\n",
    "out in order, rather than having random access, use a ``heapq``.  If you\n",
    "only add and remove objects from the ends of a series, use a ``deque``.\n",
    "If you need both key-value referencing *and* ordering, then (for today)\n",
    "you might just use ``sorted()`` on your keys each time, or (in the\n",
    "future) use an ``OrderedDict``.\n",
    "\n",
    "But, for most uses, the List and Dictionary are king, and the audience\n",
    "will now hopefully understand why they're each perfect for their common\n",
    "uses.  “Any questions?”"
   ]
  },
  {
   "cell_type": "code",
   "execution_count": null,
   "metadata": {
    "Collapsed": "false"
   },
   "outputs": [],
   "source": []
  }
 ],
 "metadata": {
  "kernelspec": {
   "display_name": "Python [conda env:earthml_v2]",
   "language": "python",
   "name": "conda-env-earthml_v2-py"
  },
  "language_info": {
   "codemirror_mode": {
    "name": "ipython",
    "version": 3
   },
   "file_extension": ".py",
   "mimetype": "text/x-python",
   "name": "python",
   "nbconvert_exporter": "python",
   "pygments_lexer": "ipython3",
   "version": "3.7.3"
  }
 },
 "nbformat": 4,
 "nbformat_minor": 4
}

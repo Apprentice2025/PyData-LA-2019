{
 "cells": [
  {
   "cell_type": "markdown",
   "metadata": {
    "Collapsed": "false"
   },
   "source": [
    "# Experimental ML with Holoviews/Geoviews + PyTorch\n",
    "\n",
    "- type: PyData LA 2019 Proposal\n",
    "- date: 2019-09-21\n",
    "- author: Hayley Song (haejinso@usc.edu)\n",
    "- Prereq: \n",
    "    - Basic understanding of visaulization in python (eg. previously have used matplotlib.pyplot library)\n",
    "    - Basic understanding of neural network training process \n",
    "    I'll give a brief overview of the workflow, assuming audiences' previous experience with the following concepts\n",
    "        - mini-batch training\n",
    "        - forward-pass, backword-pass \n",
    "        - gradient, gradient descent algorithm\n",
    "        - classification, semantic segmentation\n",
    "        - image as numpy ndarray"
   ]
  },
  {
   "cell_type": "markdown",
   "metadata": {
    "Collapsed": "false"
   },
   "source": [
    "- type: PyData LA 2019 Proposal\n",
    "- date: 2019-09-21\n",
    "- author: Hayley Song (haejinso@usc.edu)\n",
    "\n",
    "\n"
   ]
  },
  {
   "cell_type": "markdown",
   "metadata": {
    "Collapsed": "false"
   },
   "source": [
    "## Outline"
   ]
  },
  {
   "cell_type": "markdown",
   "metadata": {
    "Collapsed": "false"
   },
   "source": [
    "This talk introduces explorative and interactive tools you can incorporate into your experimental modeling workflow using the combination of Holoviews, JupyterLab and PyTorch.   I will demonstrate <mark>how to do so</mark> with an example of building a neural network to solve the problem of semantic segmentation on satellite images. At each core step of the modeling -- from data exploration to trained model inspection -- I will show different ways to interact with your data and the neural net model to have a better grip on the training process, not only at the end of the trianing, but at intermediate training iterations. \n",
    "\n",
    "training a small neural network on image and vector data, particularly to solve the semantic segmentation problem.  ~~can help explore every step of Neural Net model training process with increased interactivity.  by using Holoviews in combination with pyTorch~to addworkflow of building a neural network model on image and vector datasets using a combination of PyViz and PyTorch.~~\n",
    "\n",
    "pyViz is --- .  \n",
    "PyTorch is --- . \n",
    "\n",
    "\n",
    "The general modeling workflow in the context of training a neural network based model is:\n",
    "1. Prepare your dataset\n",
    "2. Train your model with train and validation datasets\n",
    "3. Test your trained model on the test dataset\n",
    "    - Understand what your model has learned by inspecting the intermediate layers: \"feature maps\"\n",
    "At each step, I will show how we can use pyViz tools to bring interactive explorations into the workflow. This will help more quickly and easily explore your datasets, control the training process and inspect what is happening at each step, and understand the test outputs and the learned model in a deeper way. "
   ]
  },
  {
   "cell_type": "markdown",
   "metadata": {
    "Collapsed": "false"
   },
   "source": [
    "## Step 1: Explore your dataset\n",
    "    "
   ]
  },
  {
   "cell_type": "markdown",
   "metadata": {
    "Collapsed": "false"
   },
   "source": [
    "## Step 2: Monitor the training process "
   ]
  },
  {
   "cell_type": "markdown",
   "metadata": {
    "Collapsed": "false"
   },
   "source": [
    "## Step 3: Interactively test your trained model on the new data"
   ]
  },
  {
   "cell_type": "markdown",
   "metadata": {
    "Collapsed": "false"
   },
   "source": [
    "## Step 4: What have the model learned?"
   ]
  },
  {
   "cell_type": "markdown",
   "metadata": {
    "Collapsed": "false"
   },
   "source": [
    "## Step 5: Examples"
   ]
  },
  {
   "cell_type": "markdown",
   "metadata": {
    "Collapsed": "false"
   },
   "source": [
    "## Step 6: Summary\n",
    "- Main Takeway\n",
    "\n",
    "- Resources\n",
    "    - General: \n",
    "        - Github repo for this talk:\n",
    "        - Holoviews:\n",
    "        - PyTorch:\n",
    "\n",
    "    - Data:\n",
    "        - Remote sensing data: google-earth-engine\n",
    "    - More from PyViz team:\n",
    "        - Link to scipy tutorials:\n",
    "        - Panel\n",
    "        - "
   ]
  },
  {
   "cell_type": "markdown",
   "metadata": {
    "Collapsed": "false"
   },
   "source": [
    "---\n",
    "\n",
    "- Prepare your dataset: train, validation, test\n",
    "    - classification: \n",
    "        - eg: airplane/not-airplane, cat/dog/giraffe, land cover classifiation (forest, road, ...)\n",
    "        - eg: semantic segmentation: classify each pixel into a label in the label categories\n",
    "    This talk focuses on the semantic segmentation. So our dataset consists of the input image (RGB) and the target image which will be a \"mask\" image whose pixel has one of the labels in {'highway', 'track', 'dirt', 'others'}\n",
    "    \n",
    "    - clustering: "
   ]
  },
  {
   "cell_type": "code",
   "execution_count": null,
   "metadata": {
    "Collapsed": "false"
   },
   "outputs": [],
   "source": []
  }
 ],
 "metadata": {
  "kernelspec": {
   "display_name": "Python [conda env:earthml_v2]",
   "language": "python",
   "name": "conda-env-earthml_v2-py"
  },
  "language_info": {
   "codemirror_mode": {
    "name": "ipython",
    "version": 3
   },
   "file_extension": ".py",
   "mimetype": "text/x-python",
   "name": "python",
   "nbconvert_exporter": "python",
   "pygments_lexer": "ipython3",
   "version": "3.7.3"
  }
 },
 "nbformat": 4,
 "nbformat_minor": 4
}

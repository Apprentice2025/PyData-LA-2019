{
 "cells": [
  {
   "cell_type": "markdown",
   "metadata": {
    "Collapsed": "false"
   },
   "source": [
    "# Template for subclassing `param.Parametrized` class \n",
    "Useful for creating a visuzliation gui to quickly explore different parameter spaces and its effect on your model"
   ]
  },
  {
   "cell_type": "markdown",
   "metadata": {
    "Collapsed": "false"
   },
   "source": [
    "## Load standard libraries\n"
   ]
  },
  {
   "cell_type": "code",
   "execution_count": null,
   "metadata": {
    "Collapsed": "false"
   },
   "outputs": [],
   "source": [
    "%load_ext autoreload\n",
    "%autoreload 2\n",
    "\n",
    "import os, sys, time\n",
    "import numpy as np\n",
    "import pandas as pd\n",
    "    \n",
    "from pathlib import Path #we'll import Path object with `.ls` method added later\n",
    "from pprint import pprint as pp\n",
    "\n",
    "import pdb\n",
    "\n",
    "import matplotlib.pyplot as plt\n",
    "%matplotlib inline\n",
    "\n",
    "# ignore warnings\n",
    "import warnings\n",
    "if not sys.warnoptions:\n",
    "    warnings.simplefilter('ignore')\n",
    "    \n",
    "# Don't generate bytecode\n",
    "sys.dont_write_bytecode = True"
   ]
  },
  {
   "cell_type": "code",
   "execution_count": null,
   "metadata": {
    "Collapsed": "false"
   },
   "outputs": [],
   "source": [
    "import holoviews as hv\n",
    "import xarray as xr\n",
    "\n",
    "from holoviews import opts\n",
    "from holoviews.operation.datashader import datashade, shade, dynspread, rasterize\n",
    "from holoviews.streams import Stream, param\n",
    "from holoviews import streams\n",
    "import geoviews as gv\n",
    "import geoviews.feature as gf\n",
    "from geoviews import tile_sources as gvts\n",
    "\n",
    "\n",
    "# import geopandas as gpd\n",
    "import cartopy.crs as ccrs\n",
    "import cartopy.feature as cf\n",
    "\n",
    "hv.notebook_extension('bokeh')\n",
    "hv.Dimension.type_formatters[np.datetime64] = '%Y-%m-%d'\n",
    "\n",
    "# Dashboards\n",
    "import param as pm, panel as pn\n",
    "pn.extension()"
   ]
  },
  {
   "cell_type": "code",
   "execution_count": null,
   "metadata": {
    "Collapsed": "false"
   },
   "outputs": [],
   "source": [
    "# Geoviews visualization default options\n",
    "H,W, = 250,250\n",
    "opts.defaults(\n",
    "    opts.RGB(height=H, width=W, tools=['hover'], active_tools=['wheel_zoom']),\n",
    "    opts.Image(height=H, width=W, tools=['hover'], active_tools=['wheel_zoom'], framewise=True),#axiswise=True ),\n",
    "    opts.Points( tools=['hover'], active_tools=['wheel_zoom']),\n",
    ")"
   ]
  },
  {
   "cell_type": "markdown",
   "metadata": {
    "Collapsed": "false"
   },
   "source": [
    "## Here is the template!"
   ]
  },
  {
   "cell_type": "code",
   "execution_count": null,
   "metadata": {
    "Collapsed": "false"
   },
   "outputs": [],
   "source": [
    "CITIES = ['LA', 'BOSTON', 'PARIS', 'JEONJU', 'DC', 'SF']\n",
    "class MyParamedClass(pm.Parameterized):\n",
    "    \n",
    "    # Declare parameters (which will turned into instance attributes via. pm.Parametrized.__init__ method)\n",
    "    age = pm.Integer(10, bounds=(1,100))\n",
    "    city = pm.Selector(objects=CITIES, default='LA')\n",
    "    logbox = pm.String('LOGBOX')\n",
    "    \n",
    "    # Explicitly define initialization method\n",
    "    ## This will be called to instantiate new instances for this class\n",
    "    def __init__(self, **params):\n",
    "        \"\"\"\n",
    "        The signature of this init method matched pm.Parametrized class's init method:\n",
    "            pm.Parametrized.__init__(self, **params)\n",
    "        This allows to specify parameter values at instaniation using 'key'=value: \n",
    "            eg: me = MyParamedClass(age=11, city='JEONJU')\n",
    "            \n",
    "        See pm.Parametrized?? for details\n",
    "        \"\"\"\n",
    "        super().__init__(**params)\n",
    "        self.country = 'USA'\n",
    "        \n",
    "    # Annotate a method with its dependencies that does not need automatic update when the dependents' values change\n",
    "    @param.depends('age', watch=False) # watch=False is default\n",
    "    def get_stage(self):\n",
    "        stage = 'old' if self.age > 50 else 'young'\n",
    "        return stage\n",
    "    \n",
    "    # Annotate method that needs be updated automatically as its dependents' parameter values change\n",
    "    @param.depends('city', watch=True)\n",
    "    def update_country(self):\n",
    "        if self.city in ['LA', 'BOSTON', 'DC', 'SF']:\n",
    "            self.country = 'USA'\n",
    "        elif self.city == 'PARIS':\n",
    "            self.country = 'FRANCE'\n",
    "        else:\n",
    "            self.country = 'KOREA'\n",
    "        print(f\"Country is updated: {self.country}\")\n",
    "        \n",
    "        # Just for demonstrating that this method is actually called when `city` parameter changes\n",
    "        self.logbox = self.country\n",
    "        print('Logbox: ', self.logbox)\n",
    "        \n",
    "                \n",
    "    \n",
    "    \n",
    "        \n",
    "    "
   ]
  },
  {
   "cell_type": "code",
   "execution_count": null,
   "metadata": {
    "Collapsed": "false"
   },
   "outputs": [],
   "source": [
    "myex = MyParamedClass()"
   ]
  },
  {
   "cell_type": "code",
   "execution_count": null,
   "metadata": {
    "Collapsed": "false"
   },
   "outputs": [],
   "source": [
    "pn.panel(myex.param)#.servable()"
   ]
  },
  {
   "cell_type": "code",
   "execution_count": null,
   "metadata": {
    "Collapsed": "false"
   },
   "outputs": [],
   "source": [
    "pn.panel(myex.param['logbox'])"
   ]
  },
  {
   "cell_type": "markdown",
   "metadata": {
    "Collapsed": "false"
   },
   "source": [
    "Enjoy:)"
   ]
  },
  {
   "cell_type": "code",
   "execution_count": null,
   "metadata": {},
   "outputs": [],
   "source": []
  }
 ],
 "metadata": {
  "kernelspec": {
   "display_name": "Python [conda env:earthml]",
   "language": "python",
   "name": "conda-env-earthml-py"
  },
  "language_info": {
   "codemirror_mode": {
    "name": "ipython",
    "version": 3
   },
   "file_extension": ".py",
   "mimetype": "text/x-python",
   "name": "python",
   "nbconvert_exporter": "python",
   "pygments_lexer": "ipython3",
   "version": "3.7.3"
  }
 },
 "nbformat": 4,
 "nbformat_minor": 4
}

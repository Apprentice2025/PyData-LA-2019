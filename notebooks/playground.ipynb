{
 "cells": [
  {
   "cell_type": "markdown",
   "metadata": {
    "Collapsed": "false"
   },
   "source": [
    "# Dashboard playground"
   ]
  },
  {
   "cell_type": "markdown",
   "metadata": {
    "Collapsed": "false"
   },
   "source": [
    "## Load Libraries\n"
   ]
  },
  {
   "cell_type": "code",
   "execution_count": null,
   "metadata": {
    "Collapsed": "false"
   },
   "outputs": [],
   "source": [
    "%load_ext autoreload\n",
    "%autoreload 2\n",
    "\n",
    "import os, sys, time\n",
    "import numpy as np\n",
    "import pandas as pd\n",
    "    \n",
    "from pathlib import Path #we'll import Path object with `.ls` method added later\n",
    "from pprint import pprint as pp\n",
    "\n",
    "import joblib\n",
    "import pdb\n",
    "\n",
    "import matplotlib.pyplot as plt\n",
    "%matplotlib inline\n",
    "\n",
    "# ignore warnings\n",
    "import warnings\n",
    "if not sys.warnoptions:\n",
    "    warnings.simplefilter('ignore')\n",
    "    \n",
    "# Don't generate bytecode\n",
    "sys.dont_write_bytecode = True"
   ]
  },
  {
   "cell_type": "code",
   "execution_count": null,
   "metadata": {
    "Collapsed": "false"
   },
   "outputs": [],
   "source": [
    "import holoviews as hv\n",
    "import xarray as xr\n",
    "\n",
    "from holoviews import opts\n",
    "from holoviews.operation.datashader import datashade, shade, dynspread, rasterize\n",
    "from holoviews.streams import Stream, param\n",
    "from holoviews import streams\n",
    "import geoviews as gv\n",
    "import geoviews.feature as gf\n",
    "from geoviews import tile_sources as gvts\n",
    "\n",
    "\n",
    "# import geopandas as gpd\n",
    "import cartopy.crs as ccrs\n",
    "import cartopy.feature as cf\n",
    "\n",
    "hv.notebook_extension('bokeh')\n",
    "hv.Dimension.type_formatters[np.datetime64] = '%Y-%m-%d'\n",
    "\n",
    "# Dashboards\n",
    "import param as pm, panel as pn\n",
    "pn.extension()"
   ]
  },
  {
   "cell_type": "code",
   "execution_count": null,
   "metadata": {
    "Collapsed": "false"
   },
   "outputs": [],
   "source": [
    "# Geoviews visualization default options\n",
    "H,W, = 250,250\n",
    "opts.defaults(\n",
    "    opts.RGB(height=H, width=W, tools=['hover'], active_tools=['wheel_zoom']),\n",
    "    opts.Image(height=H, width=W, tools=['hover'], active_tools=['wheel_zoom'], framewise=True),#axiswise=True ),\n",
    "    opts.Points( tools=['hover'], active_tools=['wheel_zoom']),\n",
    ")"
   ]
  },
  {
   "cell_type": "markdown",
   "metadata": {
    "Collapsed": "false"
   },
   "source": [
    "## Set up additional library path"
   ]
  },
  {
   "cell_type": "code",
   "execution_count": null,
   "metadata": {
    "Collapsed": "false"
   },
   "outputs": [],
   "source": [
    "# Add the utils directory to the search path\n",
    "SP_ROOT = Path.home()/'Playground/ContextNet'\n",
    "SP_LIBS = SP_ROOT/'scripts' # to be changed to 'src'\n",
    "# LIBS_DIR = Path('../src').absolute()\n",
    "DIRS_TO_ADD = [SP_LIBS]#, LIBS_DIR]\n",
    "for p in DIRS_TO_ADD:\n",
    "    assert p.exists()\n",
    "    \n",
    "    if str(p) not in sys.path:\n",
    "        sys.path.insert(0, str(p))\n",
    "        print(f\"Added to sys.path: {p}\")\n",
    "\n",
    "# pp(sys.path)\n",
    "    "
   ]
  },
  {
   "cell_type": "code",
   "execution_count": null,
   "metadata": {
    "Collapsed": "false"
   },
   "outputs": [],
   "source": [
    "from output_helpers import print_mro as mro, nprint, Path\n",
    "import SpacenetPath as spp\n",
    "import spacenet_globals as spg\n",
    "# from output_helpers import Path #.ls method is added to Path class"
   ]
  },
  {
   "cell_type": "markdown",
   "metadata": {
    "Collapsed": "false",
    "toc-hr-collapsed": false
   },
   "source": [
    "## Step 1: Explore your dataset\n",
    "    "
   ]
  },
  {
   "cell_type": "code",
   "execution_count": null,
   "metadata": {
    "Collapsed": "false"
   },
   "outputs": [],
   "source": [
    "city = 'vegas'\n",
    "rgb8_dir = spp.sample_rgb8_dirs[city]\n",
    "mask_dir = spp.sample_mask_dirs[city]\n",
    "sp_vec_dir = spp.sample_road_vec_dirs[city]\n",
    "osm_mask_dir = spp.sample_mask_dirs[city]"
   ]
  },
  {
   "cell_type": "code",
   "execution_count": null,
   "metadata": {
    "Collapsed": "false"
   },
   "outputs": [],
   "source": [
    "rgb_fns = sorted([rgb8_dir/fn for fn in rgb8_dir.ls() if Path(fn).suffix in ['.tif', '.tiff']])\n",
    "mask_fns = sorted([mask_dir/fn for fn in mask_dir.ls() if Path(fn).suffix in ['.tif', '.tiff']])"
   ]
  },
  {
   "cell_type": "code",
   "execution_count": null,
   "metadata": {
    "Collapsed": "false"
   },
   "outputs": [],
   "source": [
    "for rgb_fn, mask_fn in zip(rgb_fns, mask_fns):\n",
    "    assert rgb_fn.exists() and mask_fn.exists()\n",
    "    "
   ]
  },
  {
   "cell_type": "markdown",
   "metadata": {
    "Collapsed": "false"
   },
   "source": [
    "## Playground with `param` library"
   ]
  },
  {
   "cell_type": "code",
   "execution_count": null,
   "metadata": {
    "Collapsed": "false"
   },
   "outputs": [],
   "source": [
    "# class Explorer(pm.Parameterized):"
   ]
  },
  {
   "cell_type": "code",
   "execution_count": null,
   "metadata": {
    "Collapsed": "false"
   },
   "outputs": [],
   "source": [
    "# pn.panel(rgb_fns[0])"
   ]
  },
  {
   "cell_type": "code",
   "execution_count": null,
   "metadata": {
    "Collapsed": "false"
   },
   "outputs": [],
   "source": [
    "import xarray as xr\n",
    "import osmnx as ox\n",
    "import rasterio as rio\n",
    "from rasterio.plot import reshape_as_image\n"
   ]
  },
  {
   "cell_type": "code",
   "execution_count": null,
   "metadata": {
    "Collapsed": "false"
   },
   "outputs": [],
   "source": [
    "rgb = xr.open_rasterio(rgb_fns[0])"
   ]
  },
  {
   "cell_type": "code",
   "execution_count": null,
   "metadata": {
    "Collapsed": "false"
   },
   "outputs": [],
   "source": [
    "rgb_arr = reshape_as_image(rgb.data)\n",
    "# plt.imshow(rgb_arr)"
   ]
  },
  {
   "cell_type": "markdown",
   "metadata": {
    "Collapsed": "false"
   },
   "source": [
    "### Purely `param`\n"
   ]
  },
  {
   "cell_type": "code",
   "execution_count": null,
   "metadata": {
    "Collapsed": "false"
   },
   "outputs": [],
   "source": [
    "BREEDS = ['GT', 'Husky','Pug']\n",
    "COLORS = ['red', 'brown', 'gray', 'white', 'black']\n",
    "\n",
    "class Animal(pm.Parameterized):\n",
    "    breed = pm.Selector(BREEDS)\n",
    "    color = pm.Selector(COLORS, doc='color of the hairs')\n",
    "    age = pm.Number(5, bounds=(0,20), doc='Age')\n",
    "    \n",
    "    def info(self):\n",
    "        print(f'''\n",
    "        Breed: {self.breed},\n",
    "        Color: {self.color},\n",
    "        Age: {self.age}\n",
    "        ''')\n",
    "        \n",
    "Bob = Animal()\n",
    "    "
   ]
  },
  {
   "cell_type": "code",
   "execution_count": null,
   "metadata": {
    "Collapsed": "false"
   },
   "outputs": [],
   "source": [
    "Bob.info()"
   ]
  },
  {
   "cell_type": "code",
   "execution_count": null,
   "metadata": {
    "Collapsed": "false"
   },
   "outputs": [],
   "source": [
    "\n",
    "class A(pm.Parameterized):\n",
    "    fn = pm.FileSelector(path=str(rgb8_dir/\"*.tif\"))\n",
    "    action = pm.Action(lambda x: x.param.trigger('action'),\n",
    "                          doc=\"Download OSM road network data in the current RGB file's bounds\")\n",
    "\n",
    "    osm_log = pm.String(default=\"\", \n",
    "                        label=\"OSM log\",\n",
    "                        doc=\"simple log string about OSM download status\")\n",
    "    osm_dl_count = pm.Integer(0)#, precedence=0) #inivisible widget\n",
    "\n",
    "    \n",
    "    @param.depends('action')\n",
    "    def update_osm(self):\n",
    "        print('Started downloading osm data')\n",
    "        print(\"OSM data downloaded\")\n",
    "        self.osm_dl_count += 1\n",
    "#         self.osm = ...\n",
    "\n",
    "    \n",
    "# import osmnx as ox\n",
    "# import rasterio as rio\n",
    "\n",
    "# class A(pm.Parameterized):\n",
    "#     fn = pm.FileSelector(path=str(rgb8_dir/\"*.tif\"))\n",
    "#     action = pm.Action(lambda x: x.param.trigger('action'),\n",
    "#                           doc=\"Download OSM road network data in the current RGB file's bounds\")\n",
    "    \n",
    "#     # todo: this is not really a parameter. I should have a dynamicmap element that displays logs\n",
    "#     # in repsonse to the download_osm method's success code\n",
    "#     osm_log = pm.String(default=\"\", \n",
    "#                         label=\"OSM log\",\n",
    "#                         doc=\"simple log string about OSM download status\")\n",
    "#     osm_dl_count = pm.Integer(0)#, precedence=0) #inivisible widget\n",
    "    \n",
    "#     def __init__(self):\n",
    "#         self.gv_osm = hv.Div(\"\")\n",
    "    \n",
    "#     @param.depends('action')\n",
    "#     def dl_and_update_osm():\n",
    "#         print('started to dl osm data')\n",
    "#         with rio.open(self.fn) as ds:\n",
    "#             bounds = ds.bounds\n",
    "#         north, south, east, west = bounds.top, bounds.bottom, bounds.right, bounds.left\n",
    "#         G = ox.graph_from_bbox(north, south, east, west)\n",
    "#         self.osm_log = f'OSM data downloaded: {bounds}'\n",
    "#         self.osm_dl_count += 1\n",
    "\n",
    "#         print(\"OSM data downloaded\")\n",
    "        \n",
    "#         self.gv_osm = gv.Path(ox.graph_to_gdfs(G, edges=True, nodes=False))\n",
    "#         return\n",
    "    \n",
    "\n",
    "                           \n",
    "                           \n",
    "                           \n",
    "                           \n",
    "     "
   ]
  },
  {
   "cell_type": "code",
   "execution_count": null,
   "metadata": {
    "Collapsed": "false"
   },
   "outputs": [],
   "source": [
    "a1 = A()\n",
    "pn.Column(a1.param).servable()"
   ]
  },
  {
   "cell_type": "code",
   "execution_count": null,
   "metadata": {
    "Collapsed": "false"
   },
   "outputs": [],
   "source": [
    "class ActionExample(param.Parameterized):\n",
    "    \"\"\"\n",
    "    Demonstrates how to use param.Action to trigger an update.\n",
    "    \"\"\"\n",
    "\n",
    "    number = param.Number(default=0)\n",
    "    \n",
    "    action = param.Action(lambda x: x.param.trigger('action'), label='Click here!')\n",
    "        \n",
    "    @param.depends('action')\n",
    "    def get_number(self):\n",
    "        print('action triggered')\n",
    "        self.number += 1\n",
    "        return self.number\n",
    "    "
   ]
  },
  {
   "cell_type": "code",
   "execution_count": null,
   "metadata": {
    "Collapsed": "false"
   },
   "outputs": [],
   "source": [
    "action_example = ActionExample()\n",
    "# pn.Column(\n",
    "#     '# param.Action Example',\n",
    "#     pn.Row(\n",
    "#         pn.Column(pn.panel(action_example.param, show_labels=False, show_name=False, margin=0),\n",
    "#             'Click the button to trigger an update in the output.'),\n",
    "#         pn.WidgetBox(action_example.get_number, width=300))\n",
    "# ).servable()\n",
    "                                \n",
    "pn.Column(pn.panel(action_example.param, show_labels=False, show_name=False, margin=0),\n",
    "            'Click the button to trigger an update in the output.',\n",
    "                 pn.WidgetBox(action_example.get_number, width=300)\n",
    ").servable()\n",
    "        \n",
    "        "
   ]
  },
  {
   "cell_type": "code",
   "execution_count": null,
   "metadata": {
    "Collapsed": "false"
   },
   "outputs": [],
   "source": [
    "a1.verbose"
   ]
  },
  {
   "cell_type": "code",
   "execution_count": null,
   "metadata": {
    "Collapsed": "false"
   },
   "outputs": [],
   "source": [
    "class Example(param.Parameterized):\n",
    "    fn = param.FileSelector(path=str(rgb8_dir/\"*.tif\"))\n",
    "    action = param.Action(lambda x: x.param.trigger('action'),\n",
    "                       label='Download OSM')\n",
    "    \n",
    "    osm_count = param.Integer(default=0)#, precedence=0) #inivisible widget\n",
    "\n",
    "    \n",
    "    @param.depends('action', watch=True)\n",
    "    def update_osm(self):\n",
    "        print('Started downloading osm data')\n",
    "        print(\"OSM data downloaded\")\n",
    "        self.osm_count += 1\n",
    "#         self.osm = ...\n"
   ]
  },
  {
   "cell_type": "code",
   "execution_count": null,
   "metadata": {
    "Collapsed": "false"
   },
   "outputs": [],
   "source": [
    "ex = Example()\n",
    "pn.Column(ex.param).servable()"
   ]
  },
  {
   "cell_type": "code",
   "execution_count": null,
   "metadata": {
    "Collapsed": "false"
   },
   "outputs": [],
   "source": [
    "ex.update_osm()"
   ]
  },
  {
   "cell_type": "code",
   "execution_count": null,
   "metadata": {
    "Collapsed": "false"
   },
   "outputs": [],
   "source": [
    "ex.osm_count"
   ]
  },
  {
   "cell_type": "code",
   "execution_count": null,
   "metadata": {
    "Collapsed": "false"
   },
   "outputs": [],
   "source": [
    "with rio.open(a1.fn) as temp:\n",
    "    t_bounds = temp.bounds\n",
    "print(t_bounds)"
   ]
  },
  {
   "cell_type": "code",
   "execution_count": null,
   "metadata": {
    "Collapsed": "false"
   },
   "outputs": [],
   "source": [
    "# a1.update_osm_gdfs()"
   ]
  },
  {
   "cell_type": "code",
   "execution_count": null,
   "metadata": {
    "Collapsed": "false"
   },
   "outputs": [],
   "source": [
    "# a1.gv_osm"
   ]
  },
  {
   "cell_type": "code",
   "execution_count": null,
   "metadata": {
    "Collapsed": "false"
   },
   "outputs": [],
   "source": [
    "class Sine(param.Parameterized):\n",
    "    count = param.Integer(0)\n",
    "    phase = param.Number(0, bounds=(-np.pi, np.pi))\n",
    "    freq = param.Number(1, bounds=(0.1, 2.))\n",
    "    \n",
    "    @param.depends('phase', 'freq', watch=True)\n",
    "    def view(self):\n",
    "        self.count += 1\n",
    "        print(f'view is called: {self.count}')\n",
    "        xs = np.linspace(0, 2*np.pi, num=100)\n",
    "        ys = np.sin(xs*self.freq + self.phase)\n",
    "        curve = hv.Curve((xs,ys), label=f'{self.freq}-{self.phase}')\n",
    "        return pn.pane.Pane(curve)\n",
    "    "
   ]
  },
  {
   "cell_type": "code",
   "execution_count": null,
   "metadata": {
    "Collapsed": "false"
   },
   "outputs": [],
   "source": [
    "s = Sine()\n",
    "pn.Pane(s.param).servable()"
   ]
  },
  {
   "cell_type": "code",
   "execution_count": null,
   "metadata": {
    "Collapsed": "false"
   },
   "outputs": [],
   "source": [
    "pn.pane.Pane(s.param.count).servable()"
   ]
  },
  {
   "cell_type": "code",
   "execution_count": null,
   "metadata": {
    "Collapsed": "false"
   },
   "outputs": [],
   "source": [
    "pn.panel(s.param.count).servable()"
   ]
  },
  {
   "cell_type": "code",
   "execution_count": null,
   "metadata": {
    "Collapsed": "false"
   },
   "outputs": [],
   "source": [
    "# s.view()"
   ]
  },
  {
   "cell_type": "code",
   "execution_count": null,
   "metadata": {
    "Collapsed": "false"
   },
   "outputs": [],
   "source": [
    "s.count\n"
   ]
  },
  {
   "cell_type": "code",
   "execution_count": null,
   "metadata": {
    "Collapsed": "false"
   },
   "outputs": [],
   "source": [
    "import ipywidgets\n",
    "from ipywidgets import interact\n",
    "def f(x):\n",
    "    return x\n",
    "interact(f, x=10)"
   ]
  },
  {
   "cell_type": "code",
   "execution_count": null,
   "metadata": {
    "Collapsed": "false"
   },
   "outputs": [],
   "source": []
  },
  {
   "cell_type": "code",
   "execution_count": null,
   "metadata": {
    "Collapsed": "false"
   },
   "outputs": [],
   "source": []
  }
 ],
 "metadata": {
  "kernelspec": {
   "display_name": "Python [conda env:earthml]",
   "language": "python",
   "name": "conda-env-earthml-py"
  },
  "language_info": {
   "codemirror_mode": {
    "name": "ipython",
    "version": 3
   },
   "file_extension": ".py",
   "mimetype": "text/x-python",
   "name": "python",
   "nbconvert_exporter": "python",
   "pygments_lexer": "ipython3",
   "version": "3.7.3"
  }
 },
 "nbformat": 4,
 "nbformat_minor": 4
}

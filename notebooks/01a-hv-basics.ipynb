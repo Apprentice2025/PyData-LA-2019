{
 "cells": [
  {
   "cell_type": "markdown",
   "metadata": {
    "Collapsed": "false",
    "slideshow": {
     "slide_type": "slide"
    }
   },
   "source": [
    "# HoloViews Basics\n",
    "Elements and Containers\n",
    "- Some examples are taken from HoloViews [tutorials](#)\n"
   ]
  },
  {
   "cell_type": "markdown",
   "metadata": {
    "Collapsed": "false",
    "slideshow": {
     "slide_type": "slide"
    }
   },
   "source": [
    "## Load Libraries"
   ]
  },
  {
   "cell_type": "code",
   "execution_count": null,
   "metadata": {
    "Collapsed": "false",
    "slideshow": {
     "slide_type": "subslide"
    }
   },
   "outputs": [],
   "source": [
    "%load_ext autoreload\n",
    "%autoreload 2\n",
    "\n",
    "import os, sys, time\n",
    "import numpy as np\n",
    "    \n",
    "from pathlib import Path\n",
    "import pdb\n",
    "\n",
    "import matplotlib\n",
    "import matplotlib.pyplot as plt\n",
    "%matplotlib inline\n",
    "\n",
    "# ignore warnings\n",
    "import warnings\n",
    "if not sys.warnoptions:\n",
    "    warnings.simplefilter('ignore')\n",
    "    \n",
    "# Don't generate bytecode\n",
    "sys.dont_write_bytecode = True"
   ]
  },
  {
   "cell_type": "code",
   "execution_count": null,
   "metadata": {
    "Collapsed": "false",
    "slideshow": {
     "slide_type": "subslide"
    }
   },
   "outputs": [],
   "source": [
    "import holoviews as hv\n",
    "from holoviews import opts\n",
    "\n",
    "hv.notebook_extension('bokeh')\n",
    "hv.Dimension.type_formatters[np.datetime64] = '%Y-%m-%d'\n",
    "\n",
    "# Dashboards\n",
    "import param as pm, panel as pn"
   ]
  },
  {
   "cell_type": "code",
   "execution_count": null,
   "metadata": {
    "Collapsed": "false"
   },
   "outputs": [],
   "source": [
    "# Visualization default options\n",
    "H,W, = 500,500\n",
    "opts.defaults(\n",
    "    opts.RGB(height=H, width=W, tools=['hover'], active_tools=['wheel_zoom']),\n",
    "    opts.Image(height=H, width=W, tools=['hover'], active_tools=['wheel_zoom'], framewise=True),#axiswise=True ),\n",
    "    opts.Image('mask', alpha=0.3),\n",
    "\n",
    "    opts.Points( tools=['hover'], active_tools=['wheel_zoom']),\n",
    "    opts.Path(height=H, width=W, tools=['hover'], active_tools=['wheel_zoom']),\n",
    "    opts.Tiles(height=H, width=W, tools=['hover'], active_tools=['wheel_zoom']),\n",
    ")"
   ]
  },
  {
   "cell_type": "markdown",
   "metadata": {
    "Collapsed": "false",
    "slideshow": {
     "slide_type": "slide"
    }
   },
   "source": [
    "## 1. Elements\n"
   ]
  },
  {
   "cell_type": "markdown",
   "metadata": {
    "Collapsed": "false"
   },
   "source": [
    "### General format"
   ]
  },
  {
   "cell_type": "markdown",
   "metadata": {
    "Collapsed": "false"
   },
   "source": [
    "hv.`<ElementType>` ( `<data object>`, `<dimension annotations>` )\n"
   ]
  },
  {
   "cell_type": "markdown",
   "metadata": {
    "Collapsed": "false"
   },
   "source": [
    "> **Visualization of a dependent variable against an independent variable**  \n",
    "> - key dimension (typically the *x* axis in a plot), and usually have one or more value dimension(s) (often the *y* axis) that may or may not be indexable depending on the implementation.    \n",
    "> - The key dimensions are normally the parameter settings for which things are measured, and the value dimensions are the data points recorded at those settings.   \n",
    "> - As described in the [Columnar Data tutorial](Columnar_Data.ipynb), the data can be stored in several different internal formats, such as a NumPy array of shape (N, D), where N is the number of samples and D the number of dimensions. A somewhat larger list of formats can be accepted, including any of the supported internal formats, or  \n",
    "    1. As a list of length N containing tuples of length D.\n",
    "    2. As a tuple of length D containing iterables of length N.   \n",
    ">From. HoloViews documentation "
   ]
  },
  {
   "cell_type": "markdown",
   "metadata": {
    "Collapsed": "false"
   },
   "source": [
    "### `hv.Points`\n",
    "$x$ and $y$ are **independent** varialbe, known as \"key dimensions\" (`kdims`) in HoloViews\n",
    "\n",
    "![hv-points](../assets/hv/hv-points.png)"
   ]
  },
  {
   "cell_type": "code",
   "execution_count": null,
   "metadata": {
    "Collapsed": "false"
   },
   "outputs": [],
   "source": [
    "points = [(0.1*i, np.sin(0.1*i)) for i in range(100)]\n",
    "hv.Points(points)"
   ]
  },
  {
   "cell_type": "code",
   "execution_count": null,
   "metadata": {
    "Collapsed": "false"
   },
   "outputs": [],
   "source": [
    "hv.Points(points).dimensions()"
   ]
  },
  {
   "cell_type": "markdown",
   "metadata": {
    "Collapsed": "false"
   },
   "source": [
    "### `hv.Curve`\n",
    "`hv.Curve` represents a set of sample pairs $(x,y)$ that are assumed to have a deterministic relation. The plotted values will be connected because `hv.Curve` represents the relationship (ie. a function) between x and y."
   ]
  },
  {
   "cell_type": "code",
   "execution_count": null,
   "metadata": {
    "Collapsed": "false"
   },
   "outputs": [],
   "source": [
    "points = [(0.1*i, np.sin(0.1*i)) for i in range(100)]\n",
    "hv.Curve(points)"
   ]
  },
  {
   "cell_type": "code",
   "execution_count": null,
   "metadata": {
    "Collapsed": "false"
   },
   "outputs": [],
   "source": [
    "# Exercise \n",
    "# Make a Curve representing a function f s.t.\n",
    "# y = f(x) = sigmoid(x) \n",
    "# Note: sigmoid(x) = 1 / (1+e^(-x))\n",
    "# You can set the range of x (ie. domain) as you'd like"
   ]
  },
  {
   "cell_type": "code",
   "execution_count": null,
   "metadata": {
    "Collapsed": "false"
   },
   "outputs": [],
   "source": [
    "# Soln\n",
    "def sigmoid(x):\n",
    "    return 1/(1+np.exp(-x))\n",
    "xs = np.linspace(-10,10,100)\n",
    "ys = sigmoid(xs)\n",
    "sigmoid_curve = hv.Curve( (xs, ys) )\n",
    "sigmoid_curve"
   ]
  },
  {
   "cell_type": "markdown",
   "metadata": {
    "Collapsed": "false"
   },
   "source": [
    "### `hv.Scatter`\n",
    "`Scatter` element expresses a dependent relationship between two variables.\n",
    "$x$ is an **independent** variable, and $y$ is an **dependent** variable, ie. a function of $x$."
   ]
  },
  {
   "cell_type": "code",
   "execution_count": null,
   "metadata": {
    "Collapsed": "false"
   },
   "outputs": [],
   "source": [
    "hv.Scatter(points)"
   ]
  },
  {
   "cell_type": "markdown",
   "metadata": {
    "Collapsed": "false"
   },
   "source": [
    "`hv.Scatter` vs. `hv.Points`\n",
    "\n",
    "They are semantically different! "
   ]
  },
  {
   "cell_type": "code",
   "execution_count": null,
   "metadata": {
    "Collapsed": "false"
   },
   "outputs": [],
   "source": [
    "for o in [hv.Points(points,name=\"Points \"), hv.Scatter(points,name=\"Scatter\")]:\n",
    "    for d in ['key','value']:\n",
    "        print(\"%s %s_dimensions: %s \" % (o.name, d, o.dimensions(d,label=True)))"
   ]
  },
  {
   "cell_type": "markdown",
   "metadata": {
    "Collapsed": "false"
   },
   "source": [
    "### `hv.HLine`, `hv.VLine`\n",
    "Holoviews components can be overlaid onto other components using `*` operator.\n",
    "`hv.HLine` and `hv.VLine` are useful elements for adding annotations to other elements like `Curve`and `Image`"
   ]
  },
  {
   "cell_type": "code",
   "execution_count": null,
   "metadata": {
    "Collapsed": "false"
   },
   "outputs": [],
   "source": [
    "hline_0 = hv.HLine(y=0.).opts(color='red', line_dash='dashed', line_width=1)\n",
    "hline_1 = hv.HLine(y=1.).opts(color='red', line_dash='dashed', line_width=1)\n",
    "hline_2 = hv.HLine(y=0.5).opts(color='red', line_dash='dashed', line_width=1)"
   ]
  },
  {
   "cell_type": "code",
   "execution_count": null,
   "metadata": {
    "Collapsed": "false"
   },
   "outputs": [],
   "source": [
    "sig2 = sigmoid_curve * hline_0 * hline_1 * hline_2\n",
    "sig2"
   ]
  },
  {
   "cell_type": "code",
   "execution_count": null,
   "metadata": {
    "Collapsed": "false"
   },
   "outputs": [],
   "source": [
    "vline_0 = hv.VLine(x=0).opts(color='red', line_dash='dashed', line_width=1)"
   ]
  },
  {
   "cell_type": "code",
   "execution_count": null,
   "metadata": {
    "Collapsed": "false"
   },
   "outputs": [],
   "source": [
    "sig2 * vline_0"
   ]
  },
  {
   "cell_type": "code",
   "execution_count": null,
   "metadata": {
    "Collapsed": "false"
   },
   "outputs": [],
   "source": [
    "(sigmoid_curve * hline_0 * hline_1 * vline_0).opts(\n",
    "    opts.Curve(width=600, padding=0.2)\n",
    ")"
   ]
  },
  {
   "cell_type": "markdown",
   "metadata": {
    "Collapsed": "false"
   },
   "source": [
    "### Exercise\n",
    "- Load the [ice cream consumption data](https://tinyurl.com/vrtqbce) stored in `../data/icecream.csv` as a `pandas.DataFrame` object and plot different relaions as `hv.Curve` or `hv.Scatter`\n",
    "\n",
    "- Suggestions: \n",
    "    - `temperature` vs. `consumption`\n",
    "    - `income` vs. `consumption`\n",
    "    - `price` vs. `consumption`\n",
    "\n",
    "- Play with other elements and annotation elements"
   ]
  },
  {
   "cell_type": "code",
   "execution_count": null,
   "metadata": {
    "Collapsed": "false"
   },
   "outputs": [],
   "source": [
    "## Exercise\n",
    "import pandas as pd\n",
    "data = pd.read_csv('../data/icecream.csv', index_col=0)\n",
    "print(data.head())\n",
    "# print(data.describe())"
   ]
  },
  {
   "cell_type": "code",
   "execution_count": null,
   "metadata": {
    "Collapsed": "false"
   },
   "outputs": [],
   "source": [
    "## Soln\n",
    "curve = hv.Curve(data, kdims=['temp', 'cons'])\n",
    "scatter = hv.Scatter(data, kdims=['temp', 'cons']).opts(size=5, color='black')\n",
    "# scatter = hv.Scatter(data, kdims=['temp', 'cons']).opts(size='income'), color='black')\n",
    "# scatter = hv.Scatter(data, kdims=['temp', 'cons']).opts(size=hv.dim.norm('income')*10, color='black')\n",
    "curve * scatter"
   ]
  },
  {
   "cell_type": "markdown",
   "metadata": {
    "Collapsed": "false"
   },
   "source": [
    "### `hv.Image`\n",
    "> a HoloViews ``Image`` allows you to view 2D arrays using an arbitrary color map. It is associated with a [2D coordinate system in continuous space](Continuous_Coordinates.ipynb), which is appropriate for values sampled from some underlying continuous distribution (as in a photograph or other measurements from locations in real space).  Slicing, sampling, etc. on an ``Image`` all use this continuous space, whereas the corresponding operations on a ``Raster`` work on the raw array coordinates."
   ]
  },
  {
   "cell_type": "code",
   "execution_count": null,
   "metadata": {
    "Collapsed": "false"
   },
   "outputs": [],
   "source": [
    "bounds=(-2,-3,5,2)   # Coordinate system: (left, bottom, top, right)\n",
    "xs,ys = np.meshgrid(np.linspace(-2,5,50), np.linspace(2,-3, 30))\n",
    "(hv.Image(np.sin(xs)+ys, bounds=bounds) \n",
    " + hv.Image(np.sin(xs)+ys, bounds=bounds)[0:3, -2.5:2])"
   ]
  },
  {
   "cell_type": "code",
   "execution_count": null,
   "metadata": {
    "Collapsed": "false"
   },
   "outputs": [],
   "source": [
    "# Read image data\n",
    "img_fn = '../data/samples/cocolike/image/0000.jpg'\n",
    "import skimage.io as skiio\n"
   ]
  },
  {
   "cell_type": "code",
   "execution_count": null,
   "metadata": {
    "Collapsed": "false"
   },
   "outputs": [],
   "source": [
    "img = skiio.imread(img_fn) # read as uint8 RGB\n",
    "img = img /255.\n",
    "img.shape\n",
    "plt.imshow(img)"
   ]
  },
  {
   "cell_type": "code",
   "execution_count": null,
   "metadata": {
    "Collapsed": "false"
   },
   "outputs": [],
   "source": [
    "hv.Image(img[:,:,0], label='R')"
   ]
  },
  {
   "cell_type": "markdown",
   "metadata": {
    "Collapsed": "false"
   },
   "source": [
    "### `hv.RGB`\n",
    "It is a `hv.Image` equivalent for 3-channel RGB data"
   ]
  },
  {
   "cell_type": "code",
   "execution_count": null,
   "metadata": {
    "Collapsed": "false"
   },
   "outputs": [],
   "source": [
    "x,y = np.meshgrid(np.linspace(-5,5,101), np.linspace(5,-5,101))\n",
    "r = 0.5*np.sin(np.pi  +3*x**2+y**2)+0.5\n",
    "g = 0.5*np.sin(x**2+2*y**2)+0.5\n",
    "b = 0.5*np.sin(np.pi/2+x**2+y**2)+0.5\n",
    "\n",
    "hv.RGB(np.dstack([r,g,b]))\n"
   ]
  },
  {
   "cell_type": "code",
   "execution_count": null,
   "metadata": {
    "Collapsed": "false"
   },
   "outputs": [],
   "source": [
    "x = np.arange(img.shape[1])\n",
    "y = np.arange(img.shape[0])[::-1]\n",
    "bounds = (0, 0, img.shape[1], img.shape[0])\n",
    "# hv.RGB(img, bounds=bounds, label='RGB')\n",
    "hv_img = hv.RGB((x,y,img[:,:,0], img[:,:,1], img[:,:,2]),label='RGB')\n",
    "hv_img "
   ]
  },
  {
   "cell_type": "markdown",
   "metadata": {
    "Collapsed": "false"
   },
   "source": [
    "### Exercise\n",
    "- Read a corresponding mask file in `'../data/samples/cocolike/mask/0000.png'` \n",
    "and overlay the two images\n",
    "\n",
    "- Try different alpha values"
   ]
  },
  {
   "cell_type": "code",
   "execution_count": null,
   "metadata": {
    "Collapsed": "false"
   },
   "outputs": [],
   "source": [
    "### soln\n",
    "mask = skiio.imread('../data/samples/cocolike/mask/0000.png')\n",
    "print(mask.shape)\n",
    "hv_mask = hv.Image(mask[:,:,0])\n",
    "hv_mask\n"
   ]
  },
  {
   "cell_type": "code",
   "execution_count": null,
   "metadata": {
    "Collapsed": "false"
   },
   "outputs": [],
   "source": [
    " hv_img.opts(opts.RGB(shared_axes=False)) + hv_mask.opts(opts.Image(shared_axes=False))"
   ]
  },
  {
   "cell_type": "markdown",
   "metadata": {
    "Collapsed": "false",
    "slideshow": {
     "slide_type": "slide"
    }
   },
   "source": [
    "## 2. Containers\n"
   ]
  },
  {
   "cell_type": "markdown",
   "metadata": {
    "Collapsed": "false"
   },
   "source": [
    "### `hv.Overlay`\n",
    "Use `*` to overlay multiple elements"
   ]
  },
  {
   "cell_type": "markdown",
   "metadata": {
    "Collapsed": "false"
   },
   "source": [
    "### `hv.Layout`\n",
    "Use `+` to overlay multiple elements"
   ]
  },
  {
   "cell_type": "markdown",
   "metadata": {
    "Collapsed": "false"
   },
   "source": [
    "### `hv.HoloMap`\n",
    "Parameter Spaces\n",
    ">HoloViews also supplies container classes useful for visualizing parameter spaces or phase spaces, i.e., large collections of results for various combinations of parameters. These containers allow HoloViews to work with arbitrarily high-dimensional data, while having the underlying data held by Elements ensures that all of the data will be visualizable at every level of each data structure.\n",
    "\n"
   ]
  },
  {
   "cell_type": "code",
   "execution_count": null,
   "metadata": {
    "Collapsed": "false"
   },
   "outputs": [],
   "source": [
    "frequencies =  np.linspace(0.5,2.0,5)\n",
    "phases = np.linspace(0, np.pi*2, 5)\n",
    "x,y = np.mgrid[-50:51, -50:51] * 0.1\n",
    "\n",
    "\n",
    "def sine_array(phase, freq):\n",
    "    return np.sin(phase + (freq*x**2+freq*y**2))\n",
    "\n",
    "matrices = {(p, f): hv.Image(sine_array(p, f), label='Sinusoid Ring', group='Amplitude')\n",
    "          for f in [0.5, 1.0,  1.5,  2.0]    # Frequencies\n",
    "          for p in [0, np.pi/2, np.pi, 3*np.pi/2, 2*np.pi]}  # Phases"
   ]
  },
  {
   "cell_type": "code",
   "execution_count": null,
   "metadata": {
    "Collapsed": "false"
   },
   "outputs": [],
   "source": [
    "hv.HoloMap(matrices, kdims=['phase', 'frequency'])"
   ]
  },
  {
   "cell_type": "markdown",
   "metadata": {
    "Collapsed": "false"
   },
   "source": [
    "### `hv.DynamicMap`\n",
    "Move on to next notebook: [01b-hv-dmap-gaussians.ipynb](./01b-hv-dmap-gaussians.ipynb)"
   ]
  },
  {
   "cell_type": "markdown",
   "metadata": {
    "Collapsed": "true"
   },
   "source": [
    "# [SKIP] GeoViews Basics\n",
    "GeoViews: HoloViews + Geographical operations"
   ]
  },
  {
   "cell_type": "code",
   "execution_count": null,
   "metadata": {
    "Collapsed": "false"
   },
   "outputs": [],
   "source": [
    "import geoviews as gv\n",
    "import geoviews.feature as gf\n",
    "from geoviews import tile_sources as gvts\n",
    "\n",
    "import geopandas as gpd\n",
    "import cartopy.crs as ccrs\n",
    "import cartopy.feature as cf"
   ]
  },
  {
   "cell_type": "markdown",
   "metadata": {
    "Collapsed": "false"
   },
   "source": [
    "## 1. Projections"
   ]
  },
  {
   "cell_type": "markdown",
   "metadata": {
    "Collapsed": "false"
   },
   "source": [
    "## 2.Elements\n",
    "Geometric elements (similar to ESRI, QGIS)"
   ]
  },
  {
   "cell_type": "markdown",
   "metadata": {
    "Collapsed": "false"
   },
   "source": [
    "### `gv.Points`"
   ]
  },
  {
   "cell_type": "markdown",
   "metadata": {
    "Collapsed": "false"
   },
   "source": [
    "### `gv.Path`"
   ]
  },
  {
   "cell_type": "markdown",
   "metadata": {
    "Collapsed": "false"
   },
   "source": [
    "### `gv.Tiles`"
   ]
  },
  {
   "cell_type": "markdown",
   "metadata": {
    "Collapsed": "false"
   },
   "source": [
    "# Resources"
   ]
  },
  {
   "cell_type": "markdown",
   "metadata": {
    "Collapsed": "false"
   },
   "source": [
    "1. HoloViews: \n",
    "- [Gallery](http://holoviews.org/reference/)\n",
    "- [Documentation](http://holoviews.org/Reference_Manual/index.html)\n",
    "- [User Guide](http://holoviews.org/user_guide/index.html)*\n",
    "- [Tutorials](https://github.com/holoviz/holoviews/tree/master/doc/Tutorials)* \n",
    "- [Talks](#)\n",
    "\n",
    "\n",
    "2. GeoViews\n",
    "- [Website](http://geoviews.org/)\n",
    "- [Gallery](http://geoviews.org/gallery/index.html), [User Guide](http://geoviews.org/user_guide/index.html)\n",
    "---\n",
    "`*`: highly recommended\n",
    "\n"
   ]
  },
  {
   "cell_type": "code",
   "execution_count": null,
   "metadata": {
    "Collapsed": "false"
   },
   "outputs": [],
   "source": []
  }
 ],
 "metadata": {
  "celltoolbar": "Slideshow",
  "kernelspec": {
   "display_name": "Python [conda env:earthml_v2]",
   "language": "python",
   "name": "conda-env-earthml_v2-py"
  },
  "language_info": {
   "codemirror_mode": {
    "name": "ipython",
    "version": 3
   },
   "file_extension": ".py",
   "mimetype": "text/x-python",
   "name": "python",
   "nbconvert_exporter": "python",
   "pygments_lexer": "ipython3",
   "version": "3.7.3"
  },
  "toc": {
   "base_numbering": 1,
   "nav_menu": {},
   "number_sections": true,
   "sideBar": true,
   "skip_h1_title": false,
   "title_cell": "Table of Contents",
   "title_sidebar": "Contents",
   "toc_cell": false,
   "toc_position": {},
   "toc_section_display": true,
   "toc_window_display": false
  },
  "varInspector": {
   "cols": {
    "lenName": 16,
    "lenType": 16,
    "lenVar": 40
   },
   "kernels_config": {
    "python": {
     "delete_cmd_postfix": "",
     "delete_cmd_prefix": "del ",
     "library": "var_list.py",
     "varRefreshCmd": "print(var_dic_list())"
    },
    "r": {
     "delete_cmd_postfix": ") ",
     "delete_cmd_prefix": "rm(",
     "library": "var_list.r",
     "varRefreshCmd": "cat(var_dic_list()) "
    }
   },
   "types_to_exclude": [
    "module",
    "function",
    "builtin_function_or_method",
    "instance",
    "_Feature"
   ],
   "window_display": false
  }
 },
 "nbformat": 4,
 "nbformat_minor": 4
}

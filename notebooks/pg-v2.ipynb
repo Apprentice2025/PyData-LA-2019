{
 "cells": [
  {
   "cell_type": "code",
   "execution_count": null,
   "metadata": {
    "Collapsed": "false"
   },
   "outputs": [],
   "source": [
    "import ipywidgets\n",
    "from ipywidgets import interact"
   ]
  },
  {
   "cell_type": "code",
   "execution_count": null,
   "metadata": {
    "Collapsed": "false"
   },
   "outputs": [],
   "source": [
    "def f(x):\n",
    "    return x"
   ]
  },
  {
   "cell_type": "code",
   "execution_count": null,
   "metadata": {
    "Collapsed": "false"
   },
   "outputs": [],
   "source": [
    "interact(f,x=10)"
   ]
  },
  {
   "cell_type": "code",
   "execution_count": null,
   "metadata": {
    "Collapsed": "false"
   },
   "outputs": [],
   "source": [
    "%load_ext autoreload\n",
    "%autoreload 2\n",
    "\n",
    "import os, sys, time\n",
    "import numpy as np\n",
    "import pandas as pd\n",
    "    \n",
    "from pathlib import Path #we'll import Path object with `.ls` method added later\n",
    "from pprint import pprint as pp\n",
    "\n",
    "import pdb\n",
    "\n",
    "import matplotlib.pyplot as plt\n",
    "%matplotlib inline\n",
    "\n",
    "# ignore warnings\n",
    "import warnings\n",
    "if not sys.warnoptions:\n",
    "    warnings.simplefilter('ignore')\n",
    "    \n",
    "# Don't generate bytecode\n",
    "sys.dont_write_bytecode = True"
   ]
  },
  {
   "cell_type": "code",
   "execution_count": null,
   "metadata": {
    "Collapsed": "false"
   },
   "outputs": [],
   "source": [
    "import holoviews as hv\n",
    "import xarray as xr\n",
    "\n",
    "from holoviews import opts\n",
    "from holoviews.operation.datashader import datashade, shade, dynspread, rasterize\n",
    "from holoviews.streams import Stream, param\n",
    "from holoviews import streams\n",
    "import geoviews as gv\n",
    "import geoviews.feature as gf\n",
    "from geoviews import tile_sources as gvts\n",
    "\n",
    "\n",
    "# import geopandas as gpd\n",
    "import cartopy.crs as ccrs\n",
    "import cartopy.feature as cf\n",
    "\n",
    "hv.notebook_extension('bokeh')\n",
    "hv.Dimension.type_formatters[np.datetime64] = '%Y-%m-%d'\n",
    "\n",
    "# Dashboards\n",
    "import param as pm, panel as pn\n",
    "pn.extension()"
   ]
  },
  {
   "cell_type": "code",
   "execution_count": null,
   "metadata": {
    "Collapsed": "false"
   },
   "outputs": [],
   "source": [
    "# Geoviews visualization default options\n",
    "H,W, = 250,250\n",
    "opts.defaults(\n",
    "    opts.RGB(height=H, width=W, tools=['hover'], active_tools=['wheel_zoom']),\n",
    "    opts.Image(height=H, width=W, tools=['hover'], active_tools=['wheel_zoom'], framewise=True),#axiswise=True ),\n",
    "    opts.Points( tools=['hover'], active_tools=['wheel_zoom']),\n",
    ")"
   ]
  },
  {
   "cell_type": "markdown",
   "metadata": {
    "Collapsed": "false"
   },
   "source": [
    "## Set up additional library path"
   ]
  },
  {
   "cell_type": "code",
   "execution_count": null,
   "metadata": {
    "Collapsed": "false"
   },
   "outputs": [],
   "source": [
    "# Add the utils directory to the search path\n",
    "SP_ROOT = Path.home()/'Playground/ContextNet'\n",
    "SP_LIBS = SP_ROOT/'scripts' # to be changed to 'src'\n",
    "# LIBS_DIR = Path('../src').absolute()\n",
    "DIRS_TO_ADD = [SP_LIBS]#, LIBS_DIR]\n",
    "for p in DIRS_TO_ADD:\n",
    "    assert p.exists()\n",
    "    \n",
    "    if str(p) not in sys.path:\n",
    "        sys.path.insert(0, str(p))\n",
    "        print(f\"Added to sys.path: {p}\")\n",
    "\n",
    "# pp(sys.path)\n",
    "    "
   ]
  },
  {
   "cell_type": "code",
   "execution_count": null,
   "metadata": {
    "Collapsed": "false"
   },
   "outputs": [],
   "source": [
    "from output_helpers import print_mro as mro, nprint, Path\n",
    "import SpacenetPath as spp\n",
    "import spacenet_globals as spg\n",
    "# from output_helpers import Path #.ls method is added to Path class"
   ]
  },
  {
   "cell_type": "markdown",
   "metadata": {
    "Collapsed": "false",
    "toc-hr-collapsed": false
   },
   "source": [
    "## Step 1: Explore your dataset\n",
    "    "
   ]
  },
  {
   "cell_type": "code",
   "execution_count": null,
   "metadata": {
    "Collapsed": "false"
   },
   "outputs": [],
   "source": [
    "city = 'vegas'\n",
    "rgb8_dir = spp.sample_rgb8_dirs[city]\n",
    "mask_dir = spp.sample_mask_dirs[city]\n",
    "sp_vec_dir = spp.sample_road_vec_dirs[city]\n",
    "osm_mask_dir = spp.sample_mask_dirs[city]"
   ]
  },
  {
   "cell_type": "code",
   "execution_count": null,
   "metadata": {
    "Collapsed": "false"
   },
   "outputs": [],
   "source": [
    "rgb_fns = sorted([rgb8_dir/fn for fn in rgb8_dir.ls() if Path(fn).suffix in ['.tif', '.tiff']])\n",
    "mask_fns = sorted([mask_dir/fn for fn in mask_dir.ls() if Path(fn).suffix in ['.tif', '.tiff']])"
   ]
  },
  {
   "cell_type": "code",
   "execution_count": null,
   "metadata": {
    "Collapsed": "false"
   },
   "outputs": [],
   "source": [
    "for rgb_fn, mask_fn in zip(rgb_fns, mask_fns):\n",
    "    assert rgb_fn.exists() and mask_fn.exists()\n",
    "    "
   ]
  },
  {
   "cell_type": "markdown",
   "metadata": {
    "Collapsed": "false"
   },
   "source": [
    "\n",
    "\n",
    "## Playground with `param` library"
   ]
  },
  {
   "cell_type": "code",
   "execution_count": null,
   "metadata": {
    "Collapsed": "false"
   },
   "outputs": [],
   "source": [
    "# class Explorer(pm.Parameterized):"
   ]
  },
  {
   "cell_type": "code",
   "execution_count": null,
   "metadata": {
    "Collapsed": "false"
   },
   "outputs": [],
   "source": [
    "# pn.panel(rgb_fns[0])"
   ]
  },
  {
   "cell_type": "code",
   "execution_count": null,
   "metadata": {
    "Collapsed": "false"
   },
   "outputs": [],
   "source": [
    "import xarray as xr\n",
    "from rasterio.plot import reshape_as_image"
   ]
  },
  {
   "cell_type": "code",
   "execution_count": null,
   "metadata": {
    "Collapsed": "false"
   },
   "outputs": [],
   "source": [
    "rgb = xr.open_rasterio(rgb_fns[0])"
   ]
  },
  {
   "cell_type": "code",
   "execution_count": null,
   "metadata": {
    "Collapsed": "false"
   },
   "outputs": [],
   "source": [
    "rgb_arr = reshape_as_image(rgb.data)\n",
    "# plt.imshow(rgb_arr)"
   ]
  },
  {
   "cell_type": "code",
   "execution_count": null,
   "metadata": {
    "Collapsed": "false"
   },
   "outputs": [],
   "source": [
    "import osmnx as ox\n",
    "import rasterio as rio\n",
    "\n",
    "class A(pm.Parameterized):\n",
    "    fn = pm.FileSelector(path=str(rgb8_dir/\"*.tif\"))\n",
    "   \n",
    "    osm_log = pm.String(default=\"\", \n",
    "                        label=\"OSM log\",\n",
    "                        doc=\"simple log string about OSM download status\")\n",
    "    osm_count = pm.Number(0)#, precedence=0) #inivisible widget\n",
    "    action = pm.Action(lambda x: x.param.trigger('action'), label='click to download osm')\n",
    "\n",
    "    \n",
    "    @param.depends('action')\n",
    "    def update_osm(self):\n",
    "        print('Started downloading osm data')\n",
    "        print(\"OSM data downloaded\")\n",
    "        self.osm_count += 1\n",
    "#         self.osm = ...\n",
    "\n",
    "    \n",
    "# import osmnx as ox\n",
    "# import rasterio as rio\n",
    "\n",
    "# class A(pm.Parameterized):\n",
    "#     fn = pm.FileSelector(path=str(rgb8_dir/\"*.tif\"))\n",
    "#     action = pm.Action(lambda x: x.param.trigger('action'),\n",
    "#                           doc=\"Download OSM road network data in the current RGB file's bounds\")\n",
    "    \n",
    "#     # todo: this is not really a parameter. I should have a dynamicmap element that displays logs\n",
    "#     # in repsonse to the download_osm method's success code\n",
    "#     osm_log = pm.String(default=\"\", \n",
    "#                         label=\"OSM log\",\n",
    "#                         doc=\"simple log string about OSM download status\")\n",
    "#     osm_dl_count = pm.Integer(0)#, precedence=0) #inivisible widget\n",
    "    \n",
    "#     def __init__(self):\n",
    "#         self.gv_osm = hv.Div(\"\")\n",
    "    \n",
    "#     @param.depends('action')\n",
    "#     def dl_and_update_osm():\n",
    "#         print('started to dl osm data')\n",
    "#         with rio.open(self.fn) as ds:\n",
    "#             bounds = ds.bounds\n",
    "#         north, south, east, west = bounds.top, bounds.bottom, bounds.right, bounds.left\n",
    "#         G = ox.graph_from_bbox(north, south, east, west)\n",
    "#         self.osm_log = f'OSM data downloaded: {bounds}'\n",
    "#         self.osm_dl_count += 1\n",
    "\n",
    "#         print(\"OSM data downloaded\")\n",
    "        \n",
    "#         self.gv_osm = gv.Path(ox.graph_to_gdfs(G, edges=True, nodes=False))\n",
    "#         return\n",
    "    \n",
    "\n",
    "                           \n",
    "                           \n",
    "                           \n",
    "                           \n",
    "     "
   ]
  },
  {
   "cell_type": "code",
   "execution_count": null,
   "metadata": {
    "Collapsed": "false"
   },
   "outputs": [],
   "source": [
    "a1 = A()\n",
    "pn.Column(a1.param).servable()\n"
   ]
  },
  {
   "cell_type": "code",
   "execution_count": null,
   "metadata": {
    "Collapsed": "false"
   },
   "outputs": [],
   "source": [
    "pn.panel(a1.param.osm_count)\n",
    "a1.osm_count"
   ]
  },
  {
   "cell_type": "code",
   "execution_count": null,
   "metadata": {
    "Collapsed": "false"
   },
   "outputs": [],
   "source": [
    "class ActionExample(param.Parameterized):\n",
    "    \"\"\"\n",
    "    Demonstrates how to use param.Action to trigger an update.\n",
    "    \"\"\"\n",
    "\n",
    "    number = param.Integer(default=0)\n",
    "    \n",
    "    action = param.Action(lambda x: x.param.trigger('action'), label='Download OSM!')\n",
    "        \n",
    "    @param.depends('action')\n",
    "    def get_number(self):\n",
    "        print('action triggered')\n",
    "        self.number += 1\n",
    "#         return self.number\n",
    "# todo add init function and see if it resolves this issue\n",
    "# Then, ask questions about when the parameters stay as class variables vs. instance variable\n",
    "# - link to the Topica manual"
   ]
  },
  {
   "cell_type": "code",
   "execution_count": null,
   "metadata": {
    "Collapsed": "false"
   },
   "outputs": [],
   "source": [
    "action_example = ActionExample()\n",
    "# pn.Column(\n",
    "#     '# param.Action Example',\n",
    "#     pn.Row(\n",
    "#         pn.Column(pn.panel(action_example.param, show_labels=False, show_name=False, margin=0),\n",
    "#             'Click the button to trigger an update in the output.'),\n",
    "#         pn.WidgetBox(action_example.get_number, width=300))\n",
    "# ).servable()\n",
    "                                \n",
    "pn.Column(pn.panel(action_example.param, show_labels=False, show_name=False, margin=0),\n",
    "            'Click the button to trigger an update in the output.',\n",
    "                 pn.WidgetBox(action_example.get_number, width=300)\n",
    ").servable()"
   ]
  },
  {
   "cell_type": "code",
   "execution_count": null,
   "metadata": {
    "Collapsed": "false"
   },
   "outputs": [],
   "source": [
    "pn.panel(action_example.param.number)        "
   ]
  },
  {
   "cell_type": "code",
   "execution_count": null,
   "metadata": {
    "Collapsed": "false"
   },
   "outputs": [],
   "source": [
    "class Example(param.Parameterized):\n",
    "    fn = param.FileSelector(path=str(rgb8_dir/\"*.tif\"))\n",
    "    action = param.Action(lambda x: x.param.trigger('action'),\n",
    "                       label='Download OSM')\n",
    "    \n",
    "    osm_count = param.Number(default=0.)#, precedence=0) #inivisible widget\n",
    "    \n",
    "    def __init__(self,**kwargs):\n",
    "#         pdb.set_trace()\n",
    "        super().__init__(**kwargs)\n",
    "        print('created object')\n",
    "    \n",
    "    @param.depends('action', watch=True)\n",
    "    def update_osm(self):\n",
    "        print('Started downloading osm data')\n",
    "        print(\"OSM data downloaded\")\n",
    "        self.osm_count += 1\n",
    "#         self.osm = ...\n"
   ]
  },
  {
   "cell_type": "code",
   "execution_count": null,
   "metadata": {
    "Collapsed": "false"
   },
   "outputs": [],
   "source": [
    "ex = Example()"
   ]
  },
  {
   "cell_type": "code",
   "execution_count": null,
   "metadata": {
    "Collapsed": "false"
   },
   "outputs": [],
   "source": [
    "ex.update_osm()\n",
    "print(ex.osm_count)"
   ]
  },
  {
   "cell_type": "code",
   "execution_count": null,
   "metadata": {
    "Collapsed": "false"
   },
   "outputs": [],
   "source": [
    "pn.Column(ex.param)"
   ]
  },
  {
   "cell_type": "code",
   "execution_count": null,
   "metadata": {
    "Collapsed": "false"
   },
   "outputs": [],
   "source": [
    "pn.panel(ex.param.osm_count)"
   ]
  },
  {
   "cell_type": "code",
   "execution_count": null,
   "metadata": {
    "Collapsed": "false"
   },
   "outputs": [],
   "source": [
    "ex.osm_count"
   ]
  },
  {
   "cell_type": "code",
   "execution_count": null,
   "metadata": {
    "Collapsed": "false"
   },
   "outputs": [],
   "source": [
    "ex.param['action']"
   ]
  },
  {
   "cell_type": "markdown",
   "metadata": {
    "Collapsed": "false"
   },
   "source": [
    "## Template "
   ]
  },
  {
   "cell_type": "code",
   "execution_count": null,
   "metadata": {
    "Collapsed": "false"
   },
   "outputs": [],
   "source": [
    "CITIES = ['LA', 'BOSTON', 'PARIS', 'JEONJU', 'DC', 'SF']\n",
    "class MyParamedClass(pm.Parameterized):\n",
    "    \n",
    "    # Declare parameters (which will turned into instance attributes via. pm.Parametrized.__init__ method)\n",
    "    age = pm.Integer(10, bounds=(1,100))\n",
    "    city = pm.Selector(objects=CITIES, default='LA')\n",
    "    logbox = pm.String('LOGBOX')\n",
    "    \n",
    "    # Explicitly define initialization method\n",
    "    ## This will be called to instantiate new instances for this class\n",
    "    def __init__(self, **params):\n",
    "        \"\"\"\n",
    "        The signature of this init method matched pm.Parametrized class's init method:\n",
    "            pm.Parametrized.__init__(self, **params)\n",
    "        This allows to specify parameter values at instaniation using 'key'=value: \n",
    "            eg: me = MyParamedClass(age=11, city='JEONJU')\n",
    "            \n",
    "        See pm.Parametrized?? for details\n",
    "        \"\"\"\n",
    "        super().__init__(**params)\n",
    "        self.country = 'USA'\n",
    "        \n",
    "    # Annotate a method with its dependencies that does not need automatic update when the dependents' values change\n",
    "    @param.depends('age', watch=False) # watch=False is default\n",
    "    def get_stage(self):\n",
    "        stage = 'old' if self.age > 50 else 'young'\n",
    "        return stage\n",
    "    \n",
    "    # Annotate method that needs be updated automatically as its dependents' parameter values change\n",
    "    @param.depends('city', watch=True)\n",
    "    def update_country(self):\n",
    "        if self.city in ['LA', 'BOSTON', 'DC', 'SF']:\n",
    "            self.country = 'USA'\n",
    "        elif self.city == 'PARIS':\n",
    "            self.country = 'FRANCE'\n",
    "        else:\n",
    "            self.country = 'KOREA'\n",
    "        print(f\"Country is updated: {self.country}\")\n",
    "        \n",
    "        # Just for demonstrating that this method is actually called when `city` parameter changes\n",
    "        self.logbox = self.country\n",
    "        print('Logbox: ', self.logbox)\n",
    "        \n",
    "                \n",
    "    \n",
    "    \n",
    "        \n",
    "    "
   ]
  },
  {
   "cell_type": "code",
   "execution_count": null,
   "metadata": {
    "Collapsed": "false"
   },
   "outputs": [],
   "source": [
    "myex = MyParamedClass()"
   ]
  },
  {
   "cell_type": "code",
   "execution_count": null,
   "metadata": {
    "Collapsed": "false"
   },
   "outputs": [],
   "source": [
    "pn.panel(myex.param)#.servable()"
   ]
  },
  {
   "cell_type": "code",
   "execution_count": null,
   "metadata": {
    "Collapsed": "false"
   },
   "outputs": [],
   "source": [
    "pn.panel(myex.param['logbox'])"
   ]
  },
  {
   "cell_type": "code",
   "execution_count": null,
   "metadata": {
    "Collapsed": "false"
   },
   "outputs": [],
   "source": []
  }
 ],
 "metadata": {
  "kernelspec": {
   "display_name": "Python [conda env:earthml]",
   "language": "python",
   "name": "conda-env-earthml-py"
  },
  "language_info": {
   "codemirror_mode": {
    "name": "ipython",
    "version": 3
   },
   "file_extension": ".py",
   "mimetype": "text/x-python",
   "name": "python",
   "nbconvert_exporter": "python",
   "pygments_lexer": "ipython3",
   "version": "3.7.3"
  }
 },
 "nbformat": 4,
 "nbformat_minor": 4
}

{
 "cells": [
  {
   "cell_type": "code",
   "execution_count": null,
   "metadata": {
    "Collapsed": "false"
   },
   "outputs": [],
   "source": [
    "import ipywidgets\n",
    "from ipywidgets import interact"
   ]
  },
  {
   "cell_type": "code",
   "execution_count": null,
   "metadata": {
    "Collapsed": "false"
   },
   "outputs": [],
   "source": [
    "def f(x):\n",
    "    return x"
   ]
  },
  {
   "cell_type": "code",
   "execution_count": null,
   "metadata": {
    "Collapsed": "false"
   },
   "outputs": [],
   "source": [
    "interact(f,x=10)"
   ]
  },
  {
   "cell_type": "code",
   "execution_count": null,
   "metadata": {
    "Collapsed": "false"
   },
   "outputs": [],
   "source": [
    "!which jupyter"
   ]
  },
  {
   "cell_type": "code",
   "execution_count": null,
   "metadata": {
    "Collapsed": "false"
   },
   "outputs": [],
   "source": [
    "!which jupyter-lab"
   ]
  },
  {
   "cell_type": "code",
   "execution_count": null,
   "metadata": {
    "Collapsed": "false"
   },
   "outputs": [],
   "source": [
    "!conda list -n base | grep jupy"
   ]
  },
  {
   "cell_type": "code",
   "execution_count": null,
   "metadata": {
    "Collapsed": "false"
   },
   "outputs": [],
   "source": []
  },
  {
   "cell_type": "code",
   "execution_count": null,
   "metadata": {
    "Collapsed": "false"
   },
   "outputs": [],
   "source": []
  },
  {
   "cell_type": "code",
   "execution_count": null,
   "metadata": {
    "Collapsed": "false"
   },
   "outputs": [],
   "source": []
  },
  {
   "cell_type": "code",
   "execution_count": null,
   "metadata": {
    "Collapsed": "false"
   },
   "outputs": [],
   "source": []
  },
  {
   "cell_type": "code",
   "execution_count": null,
   "metadata": {
    "Collapsed": "false"
   },
   "outputs": [],
   "source": []
  },
  {
   "cell_type": "code",
   "execution_count": null,
   "metadata": {
    "Collapsed": "false"
   },
   "outputs": [],
   "source": []
  },
  {
   "cell_type": "code",
   "execution_count": null,
   "metadata": {
    "Collapsed": "false"
   },
   "outputs": [],
   "source": []
  },
  {
   "cell_type": "code",
   "execution_count": null,
   "metadata": {
    "Collapsed": "false"
   },
   "outputs": [],
   "source": []
  },
  {
   "cell_type": "code",
   "execution_count": null,
   "metadata": {
    "Collapsed": "false"
   },
   "outputs": [],
   "source": []
  },
  {
   "cell_type": "code",
   "execution_count": null,
   "metadata": {
    "Collapsed": "false"
   },
   "outputs": [],
   "source": []
  },
  {
   "cell_type": "code",
   "execution_count": null,
   "metadata": {
    "Collapsed": "false"
   },
   "outputs": [],
   "source": []
  },
  {
   "cell_type": "code",
   "execution_count": null,
   "metadata": {
    "Collapsed": "false"
   },
   "outputs": [],
   "source": []
  },
  {
   "cell_type": "code",
   "execution_count": null,
   "metadata": {
    "Collapsed": "false"
   },
   "outputs": [],
   "source": []
  },
  {
   "cell_type": "code",
   "execution_count": null,
   "metadata": {
    "Collapsed": "false"
   },
   "outputs": [],
   "source": []
  },
  {
   "cell_type": "code",
   "execution_count": null,
   "metadata": {
    "Collapsed": "false"
   },
   "outputs": [],
   "source": []
  },
  {
   "cell_type": "code",
   "execution_count": null,
   "metadata": {
    "Collapsed": "false"
   },
   "outputs": [],
   "source": []
  },
  {
   "cell_type": "code",
   "execution_count": null,
   "metadata": {
    "Collapsed": "false"
   },
   "outputs": [],
   "source": []
  },
  {
   "cell_type": "code",
   "execution_count": null,
   "metadata": {
    "Collapsed": "false"
   },
   "outputs": [],
   "source": []
  },
  {
   "cell_type": "code",
   "execution_count": null,
   "metadata": {
    "Collapsed": "false"
   },
   "outputs": [],
   "source": []
  },
  {
   "cell_type": "code",
   "execution_count": null,
   "metadata": {
    "Collapsed": "false"
   },
   "outputs": [],
   "source": []
  },
  {
   "cell_type": "code",
   "execution_count": null,
   "metadata": {
    "Collapsed": "false"
   },
   "outputs": [],
   "source": []
  },
  {
   "cell_type": "code",
   "execution_count": null,
   "metadata": {
    "Collapsed": "false"
   },
   "outputs": [],
   "source": []
  },
  {
   "cell_type": "code",
   "execution_count": null,
   "metadata": {
    "Collapsed": "false"
   },
   "outputs": [],
   "source": []
  },
  {
   "cell_type": "code",
   "execution_count": null,
   "metadata": {
    "Collapsed": "false"
   },
   "outputs": [],
   "source": [
    "%load_ext autoreload\n",
    "%autoreload 2\n",
    "\n",
    "import os, sys, time\n",
    "import numpy as np\n",
    "import pandas as pd\n",
    "    \n",
    "from pathlib import Path #we'll import Path object with `.ls` method added later\n",
    "from pprint import pprint as pp\n",
    "\n",
    "import pdb\n",
    "\n",
    "import matplotlib.pyplot as plt\n",
    "%matplotlib inline\n",
    "\n",
    "# ignore warnings\n",
    "import warnings\n",
    "if not sys.warnoptions:\n",
    "    warnings.simplefilter('ignore')\n",
    "    \n",
    "# Don't generate bytecode\n",
    "sys.dont_write_bytecode = True"
   ]
  },
  {
   "cell_type": "code",
   "execution_count": null,
   "metadata": {
    "Collapsed": "false"
   },
   "outputs": [],
   "source": [
    "import holoviews as hv\n",
    "import xarray as xr\n",
    "\n",
    "from holoviews import opts\n",
    "from holoviews.operation.datashader import datashade, shade, dynspread, rasterize\n",
    "from holoviews.streams import Stream, param\n",
    "from holoviews import streams\n",
    "import geoviews as gv\n",
    "import geoviews.feature as gf\n",
    "from geoviews import tile_sources as gvts\n",
    "\n",
    "\n",
    "# import geopandas as gpd\n",
    "import cartopy.crs as ccrs\n",
    "import cartopy.feature as cf\n",
    "\n",
    "hv.notebook_extension('bokeh')\n",
    "hv.Dimension.type_formatters[np.datetime64] = '%Y-%m-%d'\n",
    "\n",
    "# Dashboards\n",
    "import param as pm, panel as pn\n",
    "pn.extension()"
   ]
  },
  {
   "cell_type": "code",
   "execution_count": null,
   "metadata": {
    "Collapsed": "false"
   },
   "outputs": [],
   "source": [
    "# Geoviews visualization default options\n",
    "H,W, = 250,250\n",
    "opts.defaults(\n",
    "    opts.RGB(height=H, width=W, tools=['hover'], active_tools=['wheel_zoom']),\n",
    "    opts.Image(height=H, width=W, tools=['hover'], active_tools=['wheel_zoom'], framewise=True),#axiswise=True ),\n",
    "    opts.Points( tools=['hover'], active_tools=['wheel_zoom']),\n",
    ")"
   ]
  },
  {
   "cell_type": "markdown",
   "metadata": {
    "Collapsed": "false"
   },
   "source": [
    "## Set up additional library path"
   ]
  },
  {
   "cell_type": "code",
   "execution_count": null,
   "metadata": {
    "Collapsed": "false"
   },
   "outputs": [],
   "source": [
    "# Add the utils directory to the search path\n",
    "SP_ROOT = Path.home()/'Playground/ContextNet'\n",
    "SP_LIBS = SP_ROOT/'scripts' # to be changed to 'src'\n",
    "# LIBS_DIR = Path('../src').absolute()\n",
    "DIRS_TO_ADD = [SP_LIBS]#, LIBS_DIR]\n",
    "for p in DIRS_TO_ADD:\n",
    "    assert p.exists()\n",
    "    \n",
    "    if str(p) not in sys.path:\n",
    "        sys.path.insert(0, str(p))\n",
    "        print(f\"Added to sys.path: {p}\")\n",
    "\n",
    "# pp(sys.path)\n",
    "    "
   ]
  },
  {
   "cell_type": "code",
   "execution_count": null,
   "metadata": {
    "Collapsed": "false"
   },
   "outputs": [],
   "source": [
    "from output_helpers import print_mro as mro, nprint, Path\n",
    "import SpacenetPath as spp\n",
    "import spacenet_globals as spg\n",
    "# from output_helpers import Path #.ls method is added to Path class"
   ]
  },
  {
   "cell_type": "markdown",
   "metadata": {
    "Collapsed": "false",
    "toc-hr-collapsed": false
   },
   "source": [
    "## Step 1: Explore your dataset\n",
    "    "
   ]
  },
  {
   "cell_type": "code",
   "execution_count": null,
   "metadata": {
    "Collapsed": "false"
   },
   "outputs": [],
   "source": [
    "city = 'vegas'\n",
    "rgb8_dir = spp.sample_rgb8_dirs[city]\n",
    "mask_dir = spp.sample_mask_dirs[city]\n",
    "sp_vec_dir = spp.sample_road_vec_dirs[city]\n",
    "osm_mask_dir = spp.sample_mask_dirs[city]"
   ]
  },
  {
   "cell_type": "code",
   "execution_count": null,
   "metadata": {
    "Collapsed": "false"
   },
   "outputs": [],
   "source": [
    "rgb_fns = sorted([rgb8_dir/fn for fn in rgb8_dir.ls() if Path(fn).suffix in ['.tif', '.tiff']])\n",
    "mask_fns = sorted([mask_dir/fn for fn in mask_dir.ls() if Path(fn).suffix in ['.tif', '.tiff']])"
   ]
  },
  {
   "cell_type": "code",
   "execution_count": null,
   "metadata": {
    "Collapsed": "false"
   },
   "outputs": [],
   "source": [
    "for rgb_fn, mask_fn in zip(rgb_fns, mask_fns):\n",
    "    assert rgb_fn.exists() and mask_fn.exists()\n",
    "    "
   ]
  },
  {
   "cell_type": "markdown",
   "metadata": {
    "Collapsed": "false"
   },
   "source": [
    "\n",
    "\n",
    "## Playground with `param` library"
   ]
  },
  {
   "cell_type": "code",
   "execution_count": null,
   "metadata": {
    "Collapsed": "false"
   },
   "outputs": [],
   "source": [
    "import xarray as xr\n",
    "import osmnx as ox\n",
    "import rasterio as rio\n",
    "import geopandas as gpd\n",
    "from rasterio.plot import reshape_as_image"
   ]
  },
  {
   "cell_type": "code",
   "execution_count": null,
   "metadata": {
    "Collapsed": "false"
   },
   "outputs": [],
   "source": [
    "rgb = xr.open_rasterio(rgb_fns[0])"
   ]
  },
  {
   "cell_type": "code",
   "execution_count": null,
   "metadata": {
    "Collapsed": "false"
   },
   "outputs": [],
   "source": [
    "rgb_arr = reshape_as_image(rgb.data)\n",
    "# plt.imshow(rgb_arr)"
   ]
  },
  {
   "cell_type": "code",
   "execution_count": null,
   "metadata": {
    "Collapsed": "false"
   },
   "outputs": [],
   "source": [
    "basemap = hv.element.tiles.tile_sources['EsriImagery']()\n",
    "\n",
    "class OSMDL(pm.Parameterized):\n",
    "    fn = pm.FileSelector(path=str(rgb8_dir/\"*.tif\"))\n",
    "   \n",
    "    osm_log = pm.String(default=\"\", \n",
    "                        label=\"OSM log\",\n",
    "                        doc=\"simple log string about OSM download status\")\n",
    "    osm_dl_count = pm.Number(0)#, precedence=0) #inivisible widget\n",
    "    \n",
    "    action_dl = pm.Action(lambda x: x.param.trigger('action_dl'), label='click to download osm')\n",
    "    action_click = pm.Action(lambda x: x.param.trigger('action_click'))#, precedence=-1)\n",
    "    \n",
    "    def __init__(self, **params):\n",
    "        super().__init__(**params)\n",
    "        self.osm_g = None\n",
    "        self.osm_edges = gpd.GeoDataFrame()\n",
    "        print('initialized')\n",
    "    \n",
    "    @param.depends('action_dl', watch=True)\n",
    "    def _download_osm(self):\n",
    "        print('Started downloading osm data')\n",
    "        with rio.open(self.fn) as ds:\n",
    "            bounds = ds.bounds\n",
    "        north, south, east, west = bounds.top, bounds.bottom, bounds.right, bounds.left\n",
    "        self.osm_g = ox.graph_from_bbox(north, south, east, west)\n",
    "        self.osm_edges = ox.graph_to_gdfs(self.osm_g, edges=True, nodes=False)\n",
    "                                                      \n",
    "        print(\"OSM data downloaded\")\n",
    "        self.osm_dl_count += 1\n",
    "        self.osm_log = f'OSM data downloaded: {bounds}, {len(self.osm_edges)}'\n",
    "        \n",
    "    def show_osm_edges(self):\n",
    "        return basemap * gv.Path(self.osm_edges)\n",
    "    \n",
    "                           \n",
    "                           \n",
    "                           \n",
    "     "
   ]
  },
  {
   "cell_type": "code",
   "execution_count": null,
   "metadata": {
    "Collapsed": "false"
   },
   "outputs": [],
   "source": [
    "ex = OSMDL()\n",
    "col = pn.Column()\n",
    "for p in ex.param:\n",
    "    col.append(pn.panel(ex.param[p]))\n",
    "col.servable()\n",
    "# pn.panel(ex.param.).servable()"
   ]
  },
  {
   "cell_type": "code",
   "execution_count": null,
   "metadata": {
    "Collapsed": "false"
   },
   "outputs": [],
   "source": [
    "pn.panel(ex.param.osm_dl_count)\n"
   ]
  },
  {
   "cell_type": "markdown",
   "metadata": {
    "Collapsed": "false"
   },
   "source": [
    "## Example of `param.Action` parameter"
   ]
  },
  {
   "cell_type": "code",
   "execution_count": null,
   "metadata": {
    "Collapsed": "false"
   },
   "outputs": [],
   "source": [
    "class ActionExample(param.Parameterized):\n",
    "    \"\"\"\n",
    "    Demonstrates how to use param.Action to trigger an update.\n",
    "    \"\"\"\n",
    "\n",
    "    number = param.Integer(default=0)\n",
    "    \n",
    "    action = param.Action(lambda x: x.param.trigger('action'), label='Download OSM!')\n",
    "        \n",
    "    @param.depends('action')\n",
    "    def get_number(self):\n",
    "        print('action triggered')\n",
    "        self.number += 1\n",
    "#         return self.number\n",
    "# todo add init function and see if it resolves this issue\n",
    "# Then, ask questions about when the parameters stay as class variables vs. instance variable\n",
    "# - link to the Topica manual"
   ]
  },
  {
   "cell_type": "code",
   "execution_count": null,
   "metadata": {
    "Collapsed": "false"
   },
   "outputs": [],
   "source": [
    "action_example = ActionExample()\n",
    "                                \n",
    "pn.Column(pn.panel(action_example.param),\n",
    "            'Click the button to trigger an update in the output.',\n",
    "                 pn.WidgetBox(action_example.get_number, width=300)\n",
    ").servable()"
   ]
  },
  {
   "cell_type": "code",
   "execution_count": null,
   "metadata": {
    "Collapsed": "false"
   },
   "outputs": [],
   "source": [
    "pn.panel(action_example.param.number)"
   ]
  },
  {
   "cell_type": "code",
   "execution_count": null,
   "metadata": {
    "Collapsed": "false"
   },
   "outputs": [],
   "source": [
    "pn.Pane(action_example.param.number)"
   ]
  },
  {
   "cell_type": "code",
   "execution_count": null,
   "metadata": {
    "Collapsed": "false"
   },
   "outputs": [],
   "source": []
  },
  {
   "cell_type": "code",
   "execution_count": null,
   "metadata": {
    "Collapsed": "false"
   },
   "outputs": [],
   "source": []
  },
  {
   "cell_type": "code",
   "execution_count": null,
   "metadata": {
    "Collapsed": "false"
   },
   "outputs": [],
   "source": []
  },
  {
   "cell_type": "code",
   "execution_count": null,
   "metadata": {
    "Collapsed": "false"
   },
   "outputs": [],
   "source": [
    "class Example(param.Parameterized):\n",
    "    fn = param.FileSelector(path=str(rgb8_dir/\"*.tif\"))\n",
    "    action = param.Action(lambda x: x.param.trigger('action'),\n",
    "                       label='Download OSM')\n",
    "    \n",
    "    osm_count = param.Number(default=0.)#, precedence=0) #inivisible widget\n",
    "    \n",
    "    def __init__(self,**kwargs):\n",
    "#         pdb.set_trace()\n",
    "        super().__init__(**kwargs)\n",
    "        print('created object')\n",
    "    \n",
    "    @param.depends('action', watch=True)\n",
    "    def update_osm(self):\n",
    "        print('Started downloading osm data')\n",
    "        print(\"OSM data downloaded\")\n",
    "        self.osm_count += 1\n",
    "#         self.osm = ...\n"
   ]
  },
  {
   "cell_type": "code",
   "execution_count": null,
   "metadata": {
    "Collapsed": "false"
   },
   "outputs": [],
   "source": [
    "ex = Example()"
   ]
  },
  {
   "cell_type": "code",
   "execution_count": null,
   "metadata": {
    "Collapsed": "false"
   },
   "outputs": [],
   "source": [
    "ex.update_osm()\n",
    "print(ex.osm_count)"
   ]
  },
  {
   "cell_type": "code",
   "execution_count": null,
   "metadata": {
    "Collapsed": "false"
   },
   "outputs": [],
   "source": [
    "pn.Column(ex.param)"
   ]
  },
  {
   "cell_type": "code",
   "execution_count": null,
   "metadata": {
    "Collapsed": "false"
   },
   "outputs": [],
   "source": [
    "pn.panel(ex.param.osm_count)"
   ]
  },
  {
   "cell_type": "code",
   "execution_count": null,
   "metadata": {
    "Collapsed": "false"
   },
   "outputs": [],
   "source": [
    "ex.osm_count"
   ]
  },
  {
   "cell_type": "code",
   "execution_count": null,
   "metadata": {
    "Collapsed": "false"
   },
   "outputs": [],
   "source": [
    "ex.param['action']"
   ]
  },
  {
   "cell_type": "markdown",
   "metadata": {
    "Collapsed": "false"
   },
   "source": [
    "## Template "
   ]
  },
  {
   "cell_type": "code",
   "execution_count": null,
   "metadata": {
    "Collapsed": "false"
   },
   "outputs": [],
   "source": [
    "CITIES = ['LA', 'BOSTON', 'PARIS', 'JEONJU', 'DC', 'SF']\n",
    "class MyParamedClass(pm.Parameterized):\n",
    "    \n",
    "    # Declare parameters (which will turned into instance attributes via. pm.Parametrized.__init__ method)\n",
    "    age = pm.Integer(10, bounds=(1,100))\n",
    "    city = pm.Selector(objects=CITIES, default='LA')\n",
    "    logbox = pm.String('LOGBOX')\n",
    "    \n",
    "    # Explicitly define initialization method\n",
    "    ## This will be called to instantiate new instances for this class\n",
    "    def __init__(self, **params):\n",
    "        \"\"\"\n",
    "        The signature of this init method matched pm.Parametrized class's init method:\n",
    "            pm.Parametrized.__init__(self, **params)\n",
    "        This allows to specify parameter values at instaniation using 'key'=value: \n",
    "            eg: me = MyParamedClass(age=11, city='JEONJU')\n",
    "            \n",
    "        See pm.Parametrized?? for details\n",
    "        \"\"\"\n",
    "        super().__init__(**params)\n",
    "        self.country = 'USA'\n",
    "        \n",
    "    # Annotate a method with its dependencies that does not need automatic update when the dependents' values change\n",
    "    @param.depends('age', watch=False) # watch=False is default\n",
    "    def get_stage(self):\n",
    "        stage = 'old' if self.age > 50 else 'young'\n",
    "        return stage\n",
    "    \n",
    "    # Annotate method that needs be updated automatically as its dependents' parameter values change\n",
    "    @param.depends('city', watch=True)\n",
    "    def update_country(self):\n",
    "        if self.city in ['LA', 'BOSTON', 'DC', 'SF']:\n",
    "            self.country = 'USA'\n",
    "        elif self.city == 'PARIS':\n",
    "            self.country = 'FRANCE'\n",
    "        else:\n",
    "            self.country = 'KOREA'\n",
    "        print(f\"Country is updated: {self.country}\")\n",
    "        \n",
    "        # Just for demonstrating that this method is actually called when `city` parameter changes\n",
    "        self.logbox = self.country\n",
    "        print('Logbox: ', self.logbox)\n",
    "        \n",
    "                \n",
    "    \n",
    "    \n",
    "        \n",
    "    "
   ]
  },
  {
   "cell_type": "code",
   "execution_count": null,
   "metadata": {
    "Collapsed": "false"
   },
   "outputs": [],
   "source": [
    "myex = MyParamedClass()"
   ]
  },
  {
   "cell_type": "code",
   "execution_count": null,
   "metadata": {
    "Collapsed": "false"
   },
   "outputs": [],
   "source": [
    "pn.panel(myex.param)#.servable()"
   ]
  },
  {
   "cell_type": "code",
   "execution_count": null,
   "metadata": {
    "Collapsed": "false"
   },
   "outputs": [],
   "source": [
    "pn.panel(myex.param['logbox'])"
   ]
  },
  {
   "cell_type": "code",
   "execution_count": null,
   "metadata": {
    "Collapsed": "false"
   },
   "outputs": [],
   "source": []
  },
  {
   "cell_type": "code",
   "execution_count": null,
   "metadata": {
    "Collapsed": "false"
   },
   "outputs": [],
   "source": []
  },
  {
   "cell_type": "code",
   "execution_count": null,
   "metadata": {
    "Collapsed": "false"
   },
   "outputs": [],
   "source": []
  },
  {
   "cell_type": "code",
   "execution_count": null,
   "metadata": {
    "Collapsed": "false"
   },
   "outputs": [],
   "source": []
  },
  {
   "cell_type": "code",
   "execution_count": null,
   "metadata": {
    "Collapsed": "false"
   },
   "outputs": [],
   "source": []
  },
  {
   "cell_type": "markdown",
   "metadata": {
    "Collapsed": "false"
   },
   "source": [
    "## Integrated Dataset Explorer\n"
   ]
  },
  {
   "cell_type": "code",
   "execution_count": null,
   "metadata": {
    "Collapsed": "false"
   },
   "outputs": [],
   "source": [
    "\n",
    "class DSExplorer(pm.Parameterized):\n",
    "    rgb_fn = pm.Selector(rgb_fns)\n",
    "    mask_alpha = pm.Magnitude(0.5)\n",
    "    show_legend = pm.Boolean(False)\n",
    "#     show_rgb_hover = pm.Boolean(False)\n",
    "#     show_mask_hover = pm.Boolean(True)\n",
    "    \n",
    "    # OSM download parameters\n",
    "    osm_log = pm.String(default=\"\", \n",
    "                        label=\"OSM log\",\n",
    "                        doc=\"simple log string about OSM download status\")\n",
    "    osm_dl_count = pm.Number(0)#, precedence=0) #inivisible widget\n",
    "    \n",
    "    action_dl = pm.Action(lambda x: x.param.trigger('action_dl'), label='click to download osm')\n",
    "    \n",
    "    def __init__(self, **params):\n",
    "        super().__init__(**params)\n",
    "        self.osm_g = None\n",
    "        self.osm_edges = gpd.GeoDataFrame()\n",
    "        print('initialized')\n",
    "    \n",
    "    ################################################################################\n",
    "    # Methods\n",
    "    ################################################################################\n",
    "    @pm.depends('rgb_fn', watch=True)\n",
    "    def get_gv_rgb(self):\n",
    "        rgb_da = xr.open_rasterio(self.rgb_fn)/255.\n",
    "        r,g,b = map(np.asarray,[rgb_da.sel(band=1), rgb_da.sel(band=2), rgb_da.sel(band=3)])\n",
    "        xs, ys = np.array(rgb_da.coords['x']), np.array(rgb_da.coords['y'])\n",
    "        # gv.RGB(rgb_da, kdims=['x','y'], vdims='R G B'.split()) #fails\n",
    "        return gv.RGB((xs,ys,r,g,b), \n",
    "                        kdims=['Longitude', 'Latitude'], \n",
    "                        vdims='R G B'.split(), \n",
    "                        crs=ccrs.PlateCarree(),\n",
    "                       group='rgb')\n",
    "    \n",
    "    @pm.depends('rgb_fn', watch=True)\n",
    "    def get_gv_mask(self):\n",
    "        fn = get_sp_mask1300_fn(self.rgb_fn)\n",
    "        da = xr.open_rasterio(fn)/255.\n",
    "        return gv.Image(da,\n",
    "                        kdims=['x','y'],  \n",
    "                        crs=ccrs.PlateCarree(), \n",
    "                        group='mask').redim(z='RT')\n",
    "    \n",
    "    @pm.depends('rgb_fn', watch=True)\n",
    "    def get_bounds(self):\n",
    "        ds = rio.open(self.rgb_fn)\n",
    "        xmin, ymin, xmax, ymax = ds.bounds\n",
    "        return hv.Div(\n",
    "            f\"\"\" \n",
    "            <h2>Bounds</h2>\n",
    "            <p>lon:{xmin, xmax},</p>\n",
    "            <p>lat: {ymin, ymax}</p>\"\"\")\n",
    "    \n",
    "    @param.depends('action_dl', watch=True)\n",
    "    def _download_osm(self):\n",
    "        print('Started downloading osm data')\n",
    "        with rio.open(self.fn) as ds:\n",
    "            bounds = ds.bounds\n",
    "        north, south, east, west = bounds.top, bounds.bottom, bounds.right, bounds.left\n",
    "        self.osm_g = ox.graph_from_bbox(north, south, east, west)\n",
    "        self.osm_edges = ox.graph_to_gdfs(self.osm_g, edges=True, nodes=False)\n",
    "                                                      \n",
    "        print(\"OSM data downloaded\")\n",
    "        self.osm_dl_count += 1\n",
    "        self.osm_log = f'OSM data downloaded: {bounds}, {len(self.osm_edges)}'\n",
    "        return gv.Path(self.osm_edges)\n",
    "\n",
    "    def get_gv_osm(self):\n",
    "        return gv.Path(self.osm_edges)\n",
    "        \n",
    "\n",
    "    ################################################################################\n",
    "    # Viewable\n",
    "    ################################################################################\n",
    "    def viewable(self):\n",
    "        dmap_rgb = hv.DynamicMap(self.get_gv_rgb).opts(show_legend=False)\n",
    "        dmap_mask = hv.DynamicMap(self.get_gv_mask)\n",
    "        dmap_bounds = hv.DynamicMap(self.get_bounds)\n",
    "#         dmap_osm = hv.DynamicMap(self._ßdownload_osm)\n",
    "        return dmap_rgb * dmap_mask + dmap_bounds #+ dmap_osm"
   ]
  },
  {
   "cell_type": "code",
   "execution_count": null,
   "metadata": {
    "Collapsed": "false"
   },
   "outputs": [],
   "source": [
    "ex = DSExplorer()\n",
    "col = pn.Column()\n",
    "for p in ex.param:\n",
    "    col.append(pn.panel(ex.param[p]))\n",
    "pn.Row(col, ex.viewable).servable()"
   ]
  },
  {
   "cell_type": "code",
   "execution_count": null,
   "metadata": {
    "Collapsed": "false"
   },
   "outputs": [],
   "source": [
    "/Users/hayley/Workspace/Talks/PyData-LA-2019/assets/"
   ]
  },
  {
   "cell_type": "markdown",
   "metadata": {
    "Collapsed": "false"
   },
   "source": [
    "Holoviz is a set of python libraries that offers simple yet powerful visualization and GUI tools. While building a model to solve a specific task at hand (eg. predicting the best time to sell a house, discriminating fake news, detecting fires from satellite images), we can use these tools to create simple \"playgrounds\" such as reactive plots and GUIs to explore our datasets and experiment with various model configurations in intuitive ways. Since HoloViz integrates seamlessly with the notebook environment, it is especially useful during the exploratory and analyzing stages. This tutorial thus focuses on the iterative and experimental nature of modeling, and demonstrates various ways to integrate these tools into four core components of modeling: (1) data exploration, (2) train hyperparameter tuning, (3) monitoring model training, and (4) understanding the trained model beyond a single metric. During this tutorial, we will use the multi-class road detection problem as a concreate example. \n",
    "\n",
    "\n",
    "\n",
    "\n",
    "his tutorial focuses on the experimental nature of modeling, and guides through how HoloViz tools can help you create your own little playgrounds to \n",
    "\n",
    "\n",
    "and thus enables us to (1)be more experimental and creative during exploratory stages, and (2) gain deeper understanding of the model via direct control over hyperparameter configurations \n",
    "\n",
    "\n",
    "\n",
    "\n",
    "\n",
    "\n",
    "naturally iterative and experimental environmnetare powerful in exploratory or analysis stages of modeling.  that is, seamlessly integrated into the rest of your \n",
    "\n",
    "\n",
    "\n",
    "\n",
    "\n",
    "During this tutorial, you will learn how to turn your static plotting codes (eg. `plt.plot`, `plt.imshow`) into interactive rich objects, and use the skill to \n",
    "\n",
    "\n",
    "\n",
    "\n",
    "This tutorial will introduce various ways to use HoloViz (in conjunction with other libraries like GeoPandas, Numpy and PyTorch) to turn your static plotting codes (eg. using Matplotlib)achieve richer understanding of your datasets and controllable experimentations during modeling. d\n",
    "\n",
    "\n",
    "to embellish each step of your modeling process, especially when the goal is to  experimental nature of modeling process and introduces various ways to use HoloViz (in conjunction with other Python libraries such as GeoPandas, Numpy and PyTorch) to bring out the \n",
    "\n",
    "integrates the exploratory part of your modeling process seamlessly into the rest of workflow in a Jupyter notebook. "
   ]
  },
  {
   "cell_type": "markdown",
   "metadata": {
    "Collapsed": "false"
   },
   "source": [
    "## Overview \n",
    "This tutorial introduces various ways to make your data exploration and modeling process more interactive and exploratory by using the combination of `JupyterLab`, `HoloViz` and `PyTorch`.  \n",
    "During the initial exploratory stage, \n",
    "\n",
    "Holoviz is a set of python libraries that offers simple yet powerful visualization and GUI tools. We can use these tools to create micro \"playgrounds\" within the Jupyter notebook, such as reactive plots and GUIs, to explore the datasets and experiment with different model configurations in a more intuitive way. For example, in [Figure 1](#link to google drive), the rich visualization object from `HoloViz`  shows the Latitude and Longitude values as we hover over the figure, shows the image at different zoom levels and can even do user-specified computations such as calculating a road length in a (mouse) selected area. \n",
    "\n",
    "\n",
    "This tutorial focuses on the iterative and experimental nature of modeling, and shows different ways to integrate these tools into four core components of modeling: (1) data exploration, (2) train hyperparameter tuning, (3) monitoring model training, and (4) understanding the trained model beyond a single metric. During this tutorial, we will use the multi-class road detection problem as a concreate example. \n",
    "\n",
    "\n",
    "\n",
    "\n",
    "\n",
    "focuses on the experimental nature of modeling and integrates seamlessly with Jupyter notebooks.\n",
    "\n",
    "\n",
    "\n",
    "\n",
    "\n",
    "\n",
    "I will start by introducing the four core HoloViz libraries (Holoviews, GeoViews, Panel and Param) and demonstrate basic examples on how we can essentially replace any \"Matplotlib.pyplot\" calls with the equivalents in `HoloViz`.  You will see how this opens up the possibilities to directly interact with your visualization by eg. hovering over the graph to inspect values, querying RGB values of an image on the figure, or querying Lat/Lon values on your map.\n"
   ]
  }
 ],
 "metadata": {
  "kernelspec": {
   "display_name": "Python [conda env:earthml_v2]",
   "language": "python",
   "name": "conda-env-earthml_v2-py"
  },
  "language_info": {
   "codemirror_mode": {
    "name": "ipython",
    "version": 3
   },
   "file_extension": ".py",
   "mimetype": "text/x-python",
   "name": "python",
   "nbconvert_exporter": "python",
   "pygments_lexer": "ipython3",
   "version": "3.7.3"
  }
 },
 "nbformat": 4,
 "nbformat_minor": 4
}
